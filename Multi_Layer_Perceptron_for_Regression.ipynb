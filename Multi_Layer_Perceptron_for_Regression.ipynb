{
  "cells": [
    {
      "cell_type": "markdown",
      "metadata": {
        "id": "view-in-github",
        "colab_type": "text"
      },
      "source": [
        "<a href=\"https://colab.research.google.com/github/gabrielmelo00/Machine-Learning-Projects/blob/main/Multi_Layer_Perceptron_for_Regression.ipynb\" target=\"_parent\"><img src=\"https://colab.research.google.com/assets/colab-badge.svg\" alt=\"Open In Colab\"/></a>"
      ]
    },
    {
      "cell_type": "markdown",
      "metadata": {
        "id": "q2lUAzcK0ncR"
      },
      "source": [
        "# Lab Deep Learning / Multi-Layer Perceptron for regression / in pytorch\n",
        "\n",
        "**Author: geoffroy.peeters@telecom-paris.fr**\n",
        "\n",
        "For any remark or suggestion, please feel free to contact me.\n",
        "\n",
        "Last edits:\n",
        "- 2020/03/24 peeters (change dimensions order)\n",
        "- 2020/04/27 peeters (added comments on W1, W2 initialization, added comments on A and B)\n",
        "- 2021/05/05 peeters (add some documentation related to ```W1 -= ...```)\n",
        "\n",
        "Read the \"introduction to pytorch\" \n",
        "- slides: https://perso.telecom-paristech.fr/gpeeters/doc/pytorch/\n",
        "- video: https://perso.telecom-paristech.fr/gpeeters/video/pytorch.mp4\n",
        "\n",
        "\n",
        "## Objective:\n",
        "\n",
        "The objective of this lab is to demonstrate the use of Neural Networks to perform non-linear regression.\n",
        "We will use a simple NN with 1 hidden layer. The hidden layer has $n_h$ (you will test various values of $n_h$) hidden units and either a ```sigmoid```, ```relu``` or ```tanh``` activation.\n",
        "Since we perform a regression task the output $\\hat{y} \\in \\mathbb{R}$ and the there is no output activation (linear).\n",
        "\n",
        "You will perform 1000 iterations (epochs) of SGD to find the parameters.\n",
        "\n",
        "You will then apply the network to the two datasets A and B.\n",
        "\n",
        "Note: for this lab, we do not separate the dataset into a train, validation and test part. We simply check the ```capacity``` of the network to model the training data.\n",
        "\n",
        "**Question**: according to the obtained loss, discuss the choice of ```sigmoid```, ```relu``` or ```tanh```.\n",
        "\n",
        "\n",
        "\n",
        "### Data normalization\n",
        "\n",
        "You should normalize the data to zero mean and unit standard deviation\n",
        "\n",
        "### Model\n",
        "\n",
        "There are various ways to write a NN model in pytorch. \n",
        "\n",
        "In this lab, you will write three different implementations:\n",
        "- **Model A**: manually defining the parameters (W1,b1,w2,b2), writting the forward equations, writting the loss equation, calling the .backward() and manually updating the weights using W1.grad. You will write the loop to perform 1000 epochs.\n",
        "- **Model B**: using the Sequential class of pytorch\n",
        "- **Model C**: a custom torch.nn.Module class for this.\n",
        "\n",
        "For Model B and C, you will use the ready made loss and optimization from the nn and optim packages. You can use the same code to optimize the parameters of Model B and C.\n",
        "\n",
        "### Loss\n",
        "\n",
        "Since we are dealing with a regression problem, we will use a Mean Square Error loss (use ```torch.nn.MSELoss``` for Model B and C).\n",
        "\n",
        "### Parameters update/ Optimization\n",
        "\n",
        "For updating the parameters, we will use as optimizer a simple SGD algorithm (use ```torch.optim.SGD``` for Model B and C) with a learning rate of 0.05.\n",
        "\n",
        "Don't forget that an optimizer is applied to a set of parameters (```my_model.parameters()``` gives the parameters of the network for Model B and C).\n",
        "Once the gradients have been computed (after the backpropagation has been performed), you can perform one step of optimization (using ```optimizer.step()``` for Model B and C).\n",
        "\n",
        "### Backward propagation\n",
        "\n",
        "Backpropagation is automatically performed in pytorch using the ```autograd``` package. \n",
        "First, reset the gradients of all parameters (using ```optimizer.zero_grad()``` for Model B and C), then perform the backpropagation ```loss.backward()```. \n",
        "\n",
        "### Regularization\n",
        "\n",
        "- How can you add a Ridge (L2) regularization ? this can be done easely within the definition of the ```optimizer```.\n",
        "- How can you add a Lasso (L1) regularization ? this has to be done manually at each iteration, by adding something to the loss before backpropagation.\n",
        "\n",
        "**Question**: discuss the use of the Ridge and Lasso regularization for each dataset.\n",
        "\n",
        "## Your task:\n",
        "\n",
        "You need to add the missing parts in the code (parts between ```# --- START CODE HERE``` and ```# --- END CODE HERE```)"
      ]
    },
    {
      "cell_type": "markdown",
      "metadata": {
        "id": "_7lNBC_R0ncT"
      },
      "source": [
        "## Load the python packages"
      ]
    },
    {
      "cell_type": "code",
      "execution_count": null,
      "metadata": {
        "id": "1FHwOxgl0ncU"
      },
      "outputs": [],
      "source": [
        "import torch\n",
        "import torch.nn as nn\n",
        "import torch.nn.functional as F\n",
        "import torch.optim as optim\n",
        "from torch.autograd import Variable\n",
        "\n",
        "from torchvision import datasets, transforms\n",
        "\n",
        "import numpy as np\n",
        "import matplotlib.pyplot as plt"
      ]
    },
    {
      "cell_type": "markdown",
      "metadata": {
        "id": "8R4EhQQr0ncU"
      },
      "source": [
        "## Datasets\n",
        "\n",
        "We will use two different datasets. For both $x$ has dimensions $(m,n_{in}=1)$ and $y$ has dimensions $(m,n_{out}=1)$ where $m$ is the number of examples.\n",
        "\n",
        "### Dataset A"
      ]
    },
    {
      "cell_type": "code",
      "execution_count": null,
      "metadata": {
        "colab": {
          "base_uri": "https://localhost:8080/",
          "height": 315
        },
        "id": "SxT_hfcz0ncV",
        "outputId": "d2b6de62-6b8d-40c7-a485-77fcee4fa2f0"
      },
      "outputs": [
        {
          "output_type": "stream",
          "name": "stdout",
          "text": [
            "size of x_data: torch.Size([100, 1])\n",
            "size of y_data: torch.Size([100, 1])\n"
          ]
        },
        {
          "output_type": "display_data",
          "data": {
            "text/plain": [
              "<Figure size 432x288 with 1 Axes>"
            ],
            "image/png": "[encoded data removed]"
          },
          "metadata": {
            "needs_background": "light"
          }
        }
      ],
      "source": [
        "m = 100\n",
        "\n",
        "x_data = torch.linspace(-1, 1, m)\n",
        "noise_data = 0.2*torch.rand(m)\n",
        "y_data = x_data.pow(2) + noise_data\n",
        "\n",
        "# --- change vectos to matrix\n",
        "x_data = torch.unsqueeze(x_data, dim=1)\n",
        "y_data = torch.unsqueeze(y_data, dim=1)\n",
        "\n",
        "# ----------------\n",
        "plt.plot(x_data.numpy(), y_data.numpy());\n",
        "plt.xlabel('x'), plt.ylabel('y');\n",
        "\n",
        "print('size of x_data:', x_data.size())\n",
        "print('size of y_data:', y_data.size())"
      ]
    },
    {
      "cell_type": "markdown",
      "metadata": {
        "id": "jwFE87JE0ncV"
      },
      "source": [
        "## Dataset B"
      ]
    },
    {
      "cell_type": "code",
      "execution_count": null,
      "metadata": {
        "colab": {
          "base_uri": "https://localhost:8080/",
          "height": 315
        },
        "id": "aYWzoXmL0ncV",
        "outputId": "0f04a1e0-203c-42a1-db83-aebb8938223f"
      },
      "outputs": [
        {
          "output_type": "stream",
          "name": "stdout",
          "text": [
            "size of x_data: torch.Size([3000, 1])\n",
            "size of y_data: torch.Size([3000, 1])\n"
          ]
        },
        {
          "output_type": "display_data",
          "data": {
            "text/plain": [
              "<Figure size 432x288 with 1 Axes>"
            ],
            "image/png": "[encoded data removed]"
          },
          "metadata": {
            "needs_background": "light"
          }
        }
      ],
      "source": [
        "m = 3000\n",
        "\n",
        "x_data = torch.arange(0, m, dtype=torch.float32)\n",
        "noise_data = 0.2*torch.rand(m)\n",
        "y_data = torch.sin(2*np.pi*x_data*0.001) + noise_data\n",
        "\n",
        "# --- change vectos to matrix\n",
        "x_data = torch.unsqueeze(x_data, dim=1)\n",
        "y_data = torch.unsqueeze(y_data, dim=1)\n",
        "\n",
        "# ----------------\n",
        "plt.plot(x_data.numpy(),y_data.numpy())\n",
        "plt.xlabel('x'), plt.ylabel('y');\n",
        "\n",
        "print('size of x_data:', x_data.size())\n",
        "print('size of y_data:', y_data.size())"
      ]
    },
    {
      "cell_type": "markdown",
      "metadata": {
        "id": "3GBTl6g60ncW"
      },
      "source": [
        "## Data standardization\n",
        "\n",
        "We standardize the input data (substract mean and divide by standard-deviation)"
      ]
    },
    {
      "cell_type": "code",
      "execution_count": null,
      "metadata": {
        "colab": {
          "base_uri": "https://localhost:8080/",
          "height": 279
        },
        "id": "NbQvStg50ncW",
        "outputId": "6d927781-5ede-46a4-90d7-f63272715f7e"
      },
      "outputs": [
        {
          "output_type": "display_data",
          "data": {
            "text/plain": [
              "<Figure size 432x288 with 1 Axes>"
            ],
            "image/png": "[encoded data removed]"
          },
          "metadata": {
            "needs_background": "light"
          }
        }
      ],
      "source": [
        "# --- START CODE HERE\n",
        "u_x = x_data.mean()\n",
        "std_x = x_data.std()\n",
        "x_data = (x_data - u_x)/std_x\n",
        "\n",
        "u_y = y_data.mean()\n",
        "std_y = y_data.std()\n",
        "y_data = (y_data - u_y)/std_y\n",
        "\n",
        "plt.plot(x_data.numpy(),y_data.numpy())\n",
        "plt.xlabel('x'), plt.ylabel('y');\n",
        "# --- END CODE HERE"
      ]
    },
    {
      "cell_type": "markdown",
      "metadata": {
        "id": "in61CRXU0ncW"
      },
      "source": [
        "## Definition of the hyper-parameters"
      ]
    },
    {
      "cell_type": "code",
      "execution_count": null,
      "metadata": {
        "id": "B5wgW7h30ncX"
      },
      "outputs": [],
      "source": [
        "n_in = 1\n",
        "n_h = 10\n",
        "n_out = 1\n",
        "\n",
        "nbEpoch = 20000\n",
        "alpha = 0.4"
      ]
    },
    {
      "cell_type": "markdown",
      "metadata": {
        "id": "7RvAQbvk0ncX"
      },
      "source": [
        "## Model 1 (writting the network equations)\n",
        "\n",
        "For model 1, you will define the variables and write the equations of the network yourself (as you would do in numpy).\n",
        "However you will use ```torch tensors``` instead of ```numpy array```. \n",
        "\n",
        "***Why ?*** because torch tensors will allows you to automatically get the gradient. You will use ```loss.backward()``` to launch the backpropagation from the ```loss``` variable. \n",
        "Then, for all torch tensors you have created and for which you have declared ```requires_grad=True```, you will get the gradient of ```loss```with respect to this variable in the field ```.grad```. \n",
        "\n",
        "***Example*** ```W1 = torch.tensors(..., requires_grad=True)``` ... ```loss.backward()``` will have the gradient $\\frac{d Loss}{d W1}$in ```W1.grad```.\n",
        "\n",
        "### Initialize the variables\n",
        "\n",
        "**Note**: In order to avoid neuron saturation and that all the neurons learn the same thing, the matrix should be initialized to a small random value (see https://pytorch.org/docs/stable/nn.html#linear for details). Because of this, W1 and W2 should be first define as small random; **then** set to ```requires_grad=True```."
      ]
    },
    {
      "cell_type": "code",
      "execution_count": null,
      "metadata": {
        "id": "ldQw4Uw60ncX"
      },
      "outputs": [],
      "source": [
        "# --- START CODE HERE\n",
        "W1 = torch.rand(n_in,n_h)\n",
        "W1.requires_grad = True\n",
        "b1 = torch.zeros(1,n_h,requires_grad=True)\n",
        "W2 = torch.rand(n_h,n_out)*0.1\n",
        "W2.requires_grad = True\n",
        "b2 = torch.zeros(1,n_out,requires_grad=True)\n",
        "# --- END CODE HERE"
      ]
    },
    {
      "cell_type": "markdown",
      "metadata": {
        "id": "rwETH_2B0ncX"
      },
      "source": [
        "### Define the model\n",
        "\n",
        "We will denote by ```H``` the pre-activation (value before the non-linearity) and by ```A``` the activation (value after the non-linearity)."
      ]
    },
    {
      "cell_type": "code",
      "execution_count": null,
      "metadata": {
        "id": "bRvQcuv10ncX"
      },
      "outputs": [],
      "source": [
        "def model(X):\n",
        "    \n",
        "    # --- H is the results of the first projection\n",
        "    # --- H is then transformed by a non-linearity to A\n",
        "    \n",
        "    # --- START CODE HERE\n",
        "    H = X@W1 + b1\n",
        "    A = nn.Sigmoid()(H)\n",
        "    hat_y = A@W2 + b2\n",
        "    # --- END CODE HERE\n",
        "    return hat_y"
      ]
    },
    {
      "cell_type": "markdown",
      "metadata": {
        "id": "DOq9bsTG0ncX"
      },
      "source": [
        "### Train the model\n",
        "\n",
        "**Note**: when updating the parameters (W1,b1,W2,b2) you should use an \"in-place\" update: ```W1 -= ...``` instead of ```W1 = W1 - ...```; otherwise ```W1``` will be replaced by its value and its gradient field will not exist anymore."
      ]
    },
    {
      "cell_type": "code",
      "execution_count": null,
      "metadata": {
        "colab": {
          "base_uri": "https://localhost:8080/"
        },
        "id": "ANXx2gnD0ncY",
        "outputId": "2687fd60-482a-4fb9-d574-bab3efd06cce"
      },
      "outputs": [
        {
          "output_type": "stream",
          "name": "stdout",
          "text": [
            "epoch 0, loss 1.0715731382369995\n",
            "epoch 1000, loss 0.9275878071784973\n",
            "epoch 2000, loss 0.7946484088897705\n",
            "epoch 3000, loss 0.6859613656997681\n",
            "epoch 4000, loss 0.5772042274475098\n",
            "epoch 5000, loss 0.28090912103652954\n",
            "epoch 6000, loss 0.041774582117795944\n",
            "epoch 7000, loss 0.036293741315603256\n",
            "epoch 8000, loss 0.03165958821773529\n",
            "epoch 9000, loss 0.02309403568506241\n",
            "epoch 10000, loss 0.017646845430135727\n",
            "epoch 11000, loss 0.030790872871875763\n",
            "epoch 12000, loss 0.013679152354598045\n",
            "epoch 13000, loss 0.012687193229794502\n",
            "epoch 14000, loss 0.0279940664768219\n",
            "epoch 15000, loss 0.012214425019919872\n",
            "epoch 16000, loss 0.012007651850581169\n",
            "epoch 17000, loss 0.013151342049241066\n",
            "epoch 18000, loss 0.012578567489981651\n",
            "epoch 19000, loss 0.011614036746323109\n"
          ]
        }
      ],
      "source": [
        "for epoch in range(0, nbEpoch):    \n",
        "    # --- X (m, n_in)\n",
        "    # --- Y (m, n_out)\n",
        "    # --- START CODE HERE\n",
        "    hat_y = model(x_data)\n",
        "    MSE = nn.MSELoss()\n",
        "    loss = MSE(hat_y, y_data)\n",
        "    # --- END CODE HERE\n",
        "    \n",
        "    if epoch % 1000 == 0:\n",
        "        print('epoch {}, loss {}'.format(epoch, loss))\n",
        "\n",
        "    loss.backward()\n",
        "    \n",
        "    with torch.no_grad():\n",
        "        # --- START CODE HERE\n",
        "        W1 -= alpha * W1.grad\n",
        "        b1 -= alpha * b1.grad\n",
        "        W2 -= alpha * W2.grad\n",
        "        b2 -= alpha * b2.grad\n",
        "        # --- END CODE HERE\n",
        "        W1.grad.zero_()\n",
        "        b1.grad.zero_()\n",
        "        W2.grad.zero_()\n",
        "        b2.grad.zero_()\n",
        "        "
      ]
    },
    {
      "cell_type": "markdown",
      "metadata": {
        "id": "b4BysB3p0ncY"
      },
      "source": [
        "### Plotting the results\n",
        "\n",
        "We will super-impose the biases of the first layer to better understand how the model has fit the sinusoidal curve. Please explain what it does."
      ]
    },
    {
      "cell_type": "code",
      "execution_count": null,
      "metadata": {
        "id": "B1rozPrW0ncY",
        "outputId": "d642f79f-5280-4cf9-af8c-daa14152844a",
        "colab": {
          "base_uri": "https://localhost:8080/",
          "height": 265
        }
      },
      "outputs": [
        {
          "output_type": "display_data",
          "data": {
            "text/plain": [
              "<Figure size 432x288 with 1 Axes>"
            ],
            "image/png": "[encoded data removed]"
          },
          "metadata": {
            "needs_background": "light"
          }
        }
      ],
      "source": [
        "# ----------------\n",
        "plt.plot(x_data.numpy(), y_data.numpy(), 'g.');\n",
        "plt.plot(x_data.numpy(), hat_y.detach().numpy(), 'r.');\n",
        "# super-impose the biases of the first layer\n",
        "plt.plot(b1.detach().numpy(), 1, 'b+');"
      ]
    },
    {
      "cell_type": "code",
      "execution_count": null,
      "metadata": {
        "id": "g1-I6EOr0ncY",
        "colab": {
          "base_uri": "https://localhost:8080/"
        },
        "outputId": "942ecc81-c512-4018-f9ee-d1b41c49d77f"
      },
      "outputs": [
        {
          "output_type": "stream",
          "name": "stdout",
          "text": [
            "epoch 0, loss 1.0020116567611694\n",
            "epoch 1000, loss 0.8466770052909851\n",
            "epoch 2000, loss 0.666410505771637\n",
            "epoch 3000, loss 0.5673443078994751\n",
            "epoch 4000, loss 0.45436596870422363\n",
            "epoch 5000, loss 0.26618772745132446\n",
            "epoch 6000, loss 0.03448201343417168\n",
            "epoch 7000, loss 0.03299058601260185\n",
            "epoch 8000, loss 0.03213679417967796\n",
            "epoch 9000, loss 0.03154339641332626\n",
            "epoch 10000, loss 0.031105857342481613\n",
            "epoch 11000, loss 0.030773432925343513\n",
            "epoch 12000, loss 0.030515195801854134\n",
            "epoch 13000, loss 0.030310600996017456\n",
            "epoch 14000, loss 0.030145416036248207\n",
            "epoch 15000, loss 0.030009660869836807\n",
            "epoch 16000, loss 0.02989611029624939\n",
            "epoch 17000, loss 0.029799675568938255\n",
            "epoch 18000, loss 0.029716553166508675\n",
            "epoch 19000, loss 0.02964390255510807\n"
          ]
        }
      ],
      "source": [
        "# --- START CODE HERE\n",
        "model = nn.Sequential(\n",
        "     nn.Linear(n_in, n_h),\n",
        "     nn.Sigmoid(),\n",
        "     nn.Linear(n_h, n_out),\n",
        ")\n",
        "\n",
        "MSE = nn.MSELoss()\n",
        "\n",
        "\n",
        "\n",
        "for epoch in range(0, nbEpoch):    \n",
        "    # --- X (m, n_in)\n",
        "    # --- Y (m, n_out)\n",
        "    # --- START CODE HERE\n",
        "    hat_y = model(x_data)\n",
        "    loss = MSE(hat_y, y_data)\n",
        "    \n",
        "    \n",
        "    if epoch % 1000 == 0:\n",
        "        print('epoch {}, loss {}'.format(epoch, loss))\n",
        "\n",
        "    model.zero_grad()\n",
        "    loss.backward()\n",
        "    with torch.no_grad():\n",
        "        for param in model.parameters():\n",
        "            param -= alpha * param.grad\n",
        "# --- END CODE HERE"
      ]
    },
    {
      "cell_type": "code",
      "source": [
        "# ----------------\n",
        "plt.plot(x_data.numpy(), y_data.numpy(), 'g.');\n",
        "plt.plot(x_data.numpy(), hat_y.detach().numpy(), 'r.');\n",
        "# super-impose the biases of the first layer\n",
        "plt.plot(b1.detach().numpy(), 1, 'b+');"
      ],
      "metadata": {
        "colab": {
          "base_uri": "https://localhost:8080/",
          "height": 265
        },
        "id": "w18068WTKOyD",
        "outputId": "59d153c6-901f-444d-f072-f0186dc7c17c"
      },
      "execution_count": null,
      "outputs": [
        {
          "output_type": "display_data",
          "data": {
            "text/plain": [
              "<Figure size 432x288 with 1 Axes>"
            ],
            "image/png": "[encoded data removed]"
          },
          "metadata": {
            "needs_background": "light"
          }
        }
      ]
    },
    {
      "cell_type": "markdown",
      "metadata": {
        "id": "Sr6dWkIt0ncY"
      },
      "source": [
        "## Model 3 (using a class definition)\n",
        "\n",
        "Here, you will write the network using the recommended pytroch way; i.e. by defining a class.\n",
        "This class inherit from the main class ```torch.nn.Module```.\n",
        "You only need to write the ```__init__``` method and the ```forward``` method.\n",
        "\n",
        "In object programming, the ```__init__``` method defines the attributes of your class. Since the attributes of your  network are the parameters to be trained (weights and biases), you should declare in the ```__init``` all the layers that involve parameters to be trained (mostly the ```Linear```layers which perform the matrix multiplication).\n",
        "\n",
        "The ```forward``` method contains the code of the forward pass itself. It can of course call attributes defined in the ```__init___``` method. It is the method used when calling ```model(x)```.\n",
        "\n",
        "As before, the model created will have all its parameters accessible as a dictionary and can be accessed using ```model.parameters()```. \n",
        "\n",
        "Classes are convenient way to write more complex network than what you can do with ```nn.sequential```. Note that you can actually include a ```nn.sequential``` in your class."
      ]
    },
    {
      "cell_type": "code",
      "execution_count": null,
      "metadata": {
        "id": "2w7HTHFj0ncY"
      },
      "outputs": [],
      "source": [
        "class Net(torch.nn.Module):\n",
        "    def __init__(self):\n",
        "        super(Net, self).__init__()\n",
        "        \n",
        "        # --- START CODE HERE\n",
        "        self.hidden = nn.Sequential(nn.Linear(n_in, n_h), nn.Sigmoid())\n",
        "        self.predict = nn.Linear(n_h, n_out)\n",
        "        # --- END CODE HERE\n",
        "        \n",
        "    def forward(self, x):\n",
        "        \n",
        "        # --- START CODE HERE\n",
        "        hat_y = self.predict(self.hidden(x))\n",
        "        # --- END CODE HERE\n",
        "        \n",
        "        return hat_y\n",
        "\n",
        "# --- START CODE HERE\n",
        "model = Net()\n",
        "# --- END CODE HERE"
      ]
    },
    {
      "cell_type": "markdown",
      "metadata": {
        "id": "AfJY9kYb0ncY"
      },
      "source": [
        "## Criterion and Optimization for model 2 and model 3\n",
        "\n",
        "The code of Model 1 is self-contained, i.e. it already contains all necessary instruction to perform forawrd, loss, backward and parameter updates.\n",
        "\n",
        "When using ```nn.sequential``` (model 2) or a class definition of the network (model 3), we still need to define \n",
        "- what we will minimize (the loss to be minimized, i.e. Mean-Square-Error or Binary-Cross-Entropy). We can of course write the equation of it by hand but pytorch comes with a very large number of pre-build loss functions (within ```torch.nn```)\n",
        "- how we will minimize the loss, i.e. what parameter update alogirhtms we will use (SGD, momentum). We can of course write the equation of it by hand but pytorch comes with a very large number of pre-build loss functions (within ```torch.nn```)\n",
        "\n",
        "L2 regularization can be done directly in the optimizer under the name ```weight_decay```."
      ]
    },
    {
      "cell_type": "code",
      "execution_count": null,
      "metadata": {
        "id": "WSLTnob70ncY"
      },
      "outputs": [],
      "source": [
        "# --- START CODE HERE\n",
        "criterion = nn.MSELoss()\n",
        "optimizer = optim.SGD(model.parameters(), lr=0.3)\n",
        "# --- END CODE HERE"
      ]
    },
    {
      "cell_type": "markdown",
      "metadata": {
        "id": "Tagx22C60ncY"
      },
      "source": [
        "## Training for model 2 and 3\n",
        "\n",
        "Having defined the network, the citerion to be minimized and the optimizer, we then perform a loop over epochs (iterations); at each step we\n",
        "- compute the forward pass by passing the data to the model: ```haty = model(x)```\n",
        "- compute the the loss (the criterion)\n",
        "- putting at zero the gradients of all the parameters of the network (this is important since, by default, pytorch accumulate the gradients over time)\n",
        "- computing the backpropagation (using as before ```.backward()```)\n",
        "- performing one step of optimization (using ```.step()```)"
      ]
    },
    {
      "cell_type": "code",
      "execution_count": null,
      "metadata": {
        "id": "NFMZ9kPJ0ncZ",
        "colab": {
          "base_uri": "https://localhost:8080/",
          "height": 997
        },
        "outputId": "e8030b42-61c4-4408-bd8c-435329642259"
      },
      "outputs": [
        {
          "output_type": "stream",
          "name": "stdout",
          "text": [
            "epoch 0, loss 1.1346839666366577\n",
            "epoch 1000, loss 0.8954415917396545\n",
            "epoch 2000, loss 0.8541386723518372\n",
            "epoch 3000, loss 0.6986746191978455\n",
            "epoch 4000, loss 0.5721493363380432\n",
            "epoch 5000, loss 0.2885257601737976\n",
            "epoch 6000, loss 0.07209435105323792\n",
            "epoch 7000, loss 0.0543123260140419\n",
            "epoch 8000, loss 0.14247433841228485\n",
            "epoch 9000, loss 0.03455175831913948\n",
            "epoch 10000, loss 0.054084412753582\n",
            "epoch 11000, loss 0.023230036720633507\n",
            "epoch 12000, loss 0.027186844497919083\n",
            "epoch 13000, loss 0.018212273716926575\n",
            "epoch 14000, loss 0.016784051433205605\n",
            "epoch 15000, loss 0.014155047945678234\n",
            "epoch 16000, loss 0.012272339314222336\n",
            "epoch 17000, loss 0.010907081887125969\n",
            "epoch 18000, loss 0.009907378815114498\n",
            "epoch 19000, loss 0.009253022260963917\n",
            "epoch 20000, loss 0.008733872324228287\n",
            "epoch 21000, loss 0.008376440964639187\n",
            "epoch 22000, loss 0.00810591597110033\n",
            "epoch 23000, loss 0.007903137244284153\n",
            "epoch 24000, loss 0.007752940524369478\n",
            "epoch 25000, loss 0.007639876566827297\n",
            "epoch 26000, loss 0.0075514349155128\n",
            "epoch 27000, loss 0.007478504907339811\n",
            "epoch 28000, loss 0.007415177766233683\n",
            "epoch 29000, loss 0.0073584686033427715\n",
            "epoch 30000, loss 0.007307012099772692\n",
            "epoch 31000, loss 0.00726007716730237\n",
            "epoch 32000, loss 0.007217095699161291\n",
            "epoch 33000, loss 0.007177596911787987\n",
            "epoch 34000, loss 0.007141226902604103\n",
            "epoch 35000, loss 0.007107625249773264\n",
            "epoch 36000, loss 0.007076524198055267\n",
            "epoch 37000, loss 0.007047669030725956\n",
            "epoch 38000, loss 0.007020851131528616\n",
            "epoch 39000, loss 0.00699588842689991\n"
          ]
        },
        {
          "output_type": "execute_result",
          "data": {
            "text/plain": [
              "[<matplotlib.lines.Line2D at 0x7fef65942110>]"
            ]
          },
          "metadata": {},
          "execution_count": 273
        },
        {
          "output_type": "display_data",
          "data": {
            "text/plain": [
              "<Figure size 432x288 with 1 Axes>"
            ],
            "image/png": "[encoded data removed]"
          },
          "metadata": {
            "needs_background": "light"
          }
        }
      ],
      "source": [
        "loss_l = []\n",
        "for epoch in range(2*nbEpoch):\n",
        "  \n",
        "    # --- START CODE HERE\n",
        "    pred_y = model(x_data)\n",
        "    loss = criterion(pred_y, y_data)\n",
        "    loss_l.append(loss.detach().numpy())\n",
        "    \n",
        "    if epoch % 1000 == 0:\n",
        "        print('epoch {}, loss {}'.format(epoch, loss.data))\n",
        "\n",
        "    optimizer.zero_grad()\n",
        "    loss.backward()\n",
        "    optimizer.step()\n",
        "# ----------------\n",
        "plt.plot(loss_l)"
      ]
    },
    {
      "cell_type": "markdown",
      "metadata": {
        "id": "C6UAlOBr0ncZ"
      },
      "source": [
        "## Plotting results"
      ]
    },
    {
      "cell_type": "code",
      "execution_count": null,
      "metadata": {
        "id": "hEdq62SF0ncZ",
        "colab": {
          "base_uri": "https://localhost:8080/",
          "height": 283
        },
        "outputId": "b4271926-7bc9-4761-c726-942c9af52922"
      },
      "outputs": [
        {
          "output_type": "execute_result",
          "data": {
            "text/plain": [
              "[<matplotlib.lines.Line2D at 0x7fef661cb510>]"
            ]
          },
          "metadata": {},
          "execution_count": 274
        },
        {
          "output_type": "display_data",
          "data": {
            "text/plain": [
              "<Figure size 432x288 with 1 Axes>"
            ],
            "image/png": "[encoded data removed]"
          },
          "metadata": {
            "needs_background": "light"
          }
        }
      ],
      "source": [
        "# ----------------\n",
        "plt.plot(x_data.numpy(), y_data.numpy(), 'g')\n",
        "plt.plot(x_data.numpy(), pred_y.detach().numpy(), 'r')"
      ]
    },
    {
      "cell_type": "markdown",
      "metadata": {
        "id": "1AjyldDJ0ncZ"
      },
      "source": [
        "## Display the weights and the biases\n",
        "\n",
        "Now, we want to check the effect of L1 regularization. For this you will plot the values of the weights of each layers."
      ]
    },
    {
      "cell_type": "code",
      "execution_count": null,
      "metadata": {
        "id": "Ln607MS80ncZ"
      },
      "outputs": [],
      "source": []
    }
  ],
  "metadata": {
    "kernelspec": {
      "display_name": "Python 3",
      "language": "python",
      "name": "python3"
    },
    "language_info": {
      "codemirror_mode": {
        "name": "ipython",
        "version": 3
      },
      "file_extension": ".py",
      "mimetype": "text/x-python",
      "name": "python",
      "nbconvert_exporter": "python",
      "pygments_lexer": "ipython3",
      "version": "3.8.5"
    },
    "toc": {
      "base_numbering": 1,
      "nav_menu": {},
      "number_sections": true,
      "sideBar": true,
      "skip_h1_title": false,
      "title_cell": "Table of Contents",
      "title_sidebar": "Contents",
      "toc_cell": false,
      "toc_position": {},
      "toc_section_display": true,
      "toc_window_display": false
    },
    "colab": {
      "provenance": [],
      "collapsed_sections": [],
      "include_colab_link": true
    }
  },
  "nbformat": 4,
  "nbformat_minor": 0
}