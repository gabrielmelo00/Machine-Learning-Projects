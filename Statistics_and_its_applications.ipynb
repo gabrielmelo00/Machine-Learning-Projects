{
  "nbformat": 4,
  "nbformat_minor": 0,
  "metadata": {
    "colab": {
      "provenance": [],
      "collapsed_sections": [],
      "authorship_tag": "ABX9TyNF05E/CUeC8WdCqyXVEdpb",
      "include_colab_link": true
    },
    "kernelspec": {
      "name": "python3",
      "display_name": "Python 3"
    },
    "language_info": {
      "name": "python"
    }
  },
  "cells": [
    {
      "cell_type": "markdown",
      "metadata": {
        "id": "view-in-github",
        "colab_type": "text"
      },
      "source": [
        "<a href=\"https://colab.research.google.com/github/gabrielmelo00/Machine-Learning-Projects/blob/main/Statistics_and_its_applications.ipynb\" target=\"_parent\"><img src=\"https://colab.research.google.com/assets/colab-badge.svg\" alt=\"Open In Colab\"/></a>"
      ]
    },
    {
      "cell_type": "markdown",
      "metadata": {
        "id": "JuzVAxE-KHnB"
      },
      "source": [
        "# **Mini-Projet**\n",
        "\n",
        "\n",
        "> Gabriel Silva Vieira de Melo\n",
        "\n",
        ">MDI220 - Statistiques \n",
        "\n",
        "> Année 2021/2022\n",
        "\n",
        "\n",
        "\n"
      ]
    },
    {
      "cell_type": "markdown",
      "metadata": {
        "id": "9GsU2033LaU0"
      },
      "source": [
        "### Bibliothèques Python utilisées dans le projet"
      ]
    },
    {
      "cell_type": "code",
      "metadata": {
        "id": "zJC4lGjSMJmO"
      },
      "source": [
        "import numpy as np\n",
        "import pandas as pd\n",
        "import matplotlib.pyplot as plt\n",
        "import scipy.stats as stats\n",
        "import seaborn as sns\n",
        "import datetime\n",
        "import math"
      ],
      "execution_count": null,
      "outputs": []
    },
    {
      "cell_type": "markdown",
      "metadata": {
        "id": "hQvLtsS4LAEj"
      },
      "source": [
        "## **Exercise 1**"
      ]
    },
    {
      "cell_type": "markdown",
      "metadata": {
        "id": "_FV4-1wKNsEH"
      },
      "source": [
        "#### **1-)** "
      ]
    },
    {
      "cell_type": "code",
      "metadata": {
        "colab": {
          "base_uri": "https://localhost:8080/",
          "height": 1000
        },
        "id": "2D_SHWi0RReh",
        "outputId": "772c6b0f-6496-4f80-dce9-5d1cede9fe2a"
      },
      "source": [
        "df = pd.read_csv(\"NuclearPowerAccidents2016.csv\")\n",
        "df[\"Date\"] = pd.to_datetime(df[\"Date\"])\n",
        "df = df[df[\"Date\"] < \"1979-03-28\"]\n",
        "df = df[~df[\"Cost (millions 2013US$)\"].isnull()]\n",
        "df"
      ],
      "execution_count": null,
      "outputs": [
        {
          "output_type": "execute_result",
          "data": {
            "text/html": [
              "<div>\n",
              "<style scoped>\n",
              "    .dataframe tbody tr th:only-of-type {\n",
              "        vertical-align: middle;\n",
              "    }\n",
              "\n",
              "    .dataframe tbody tr th {\n",
              "        vertical-align: top;\n",
              "    }\n",
              "\n",
              "    .dataframe thead th {\n",
              "        text-align: right;\n",
              "    }\n",
              "</style>\n",
              "<table border=\"1\" class=\"dataframe\">\n",
              "  <thead>\n",
              "    <tr style=\"text-align: right;\">\n",
              "      <th></th>\n",
              "      <th>Date</th>\n",
              "      <th>Location</th>\n",
              "      <th>Cost (millions 2013US$)</th>\n",
              "      <th>INES</th>\n",
              "      <th>Smyth Magnitude</th>\n",
              "      <th>Region</th>\n",
              "      <th>Description</th>\n",
              "      <th>Fatalities</th>\n",
              "    </tr>\n",
              "  </thead>\n",
              "  <tbody>\n",
              "    <tr>\n",
              "      <th>4</th>\n",
              "      <td>1957-09-11</td>\n",
              "      <td>Rocky Flats, USA</td>\n",
              "      <td>8189.0</td>\n",
              "      <td>5.0</td>\n",
              "      <td>5.2</td>\n",
              "      <td>NaN</td>\n",
              "      <td>Fire starts and destroys plutonium processing ...</td>\n",
              "      <td>0</td>\n",
              "    </tr>\n",
              "    <tr>\n",
              "      <th>5</th>\n",
              "      <td>1955-03-25</td>\n",
              "      <td>Sellafield, UK</td>\n",
              "      <td>4400.0</td>\n",
              "      <td>4.0</td>\n",
              "      <td>4.3</td>\n",
              "      <td>WE</td>\n",
              "      <td>Fire releases up to up to a few tenths of a te...</td>\n",
              "      <td>0</td>\n",
              "    </tr>\n",
              "    <tr>\n",
              "      <th>6</th>\n",
              "      <td>1977-01-01</td>\n",
              "      <td>Beloyarsk, USSR</td>\n",
              "      <td>3500.0</td>\n",
              "      <td>5.0</td>\n",
              "      <td>NaN</td>\n",
              "      <td>EE</td>\n",
              "      <td>Unit 2 suffers a half core meltdown, repairs t...</td>\n",
              "      <td>0</td>\n",
              "    </tr>\n",
              "    <tr>\n",
              "      <th>7</th>\n",
              "      <td>1955-07-14</td>\n",
              "      <td>Sellafield, UK</td>\n",
              "      <td>2900.0</td>\n",
              "      <td>3.0</td>\n",
              "      <td>-2.4</td>\n",
              "      <td>WE</td>\n",
              "      <td>Another radioactive leak and remediation opera...</td>\n",
              "      <td>0</td>\n",
              "    </tr>\n",
              "    <tr>\n",
              "      <th>8</th>\n",
              "      <td>1969-10-12</td>\n",
              "      <td>Sellafield, UK</td>\n",
              "      <td>2500.0</td>\n",
              "      <td>4.0</td>\n",
              "      <td>2.3</td>\n",
              "      <td>WE</td>\n",
              "      <td>Enhanced discharge from the Building B204 stac...</td>\n",
              "      <td>0</td>\n",
              "    </tr>\n",
              "    <tr>\n",
              "      <th>10</th>\n",
              "      <td>1977-02-22</td>\n",
              "      <td>Jaslovske Bohunice, Czechoslovakia</td>\n",
              "      <td>1964.5</td>\n",
              "      <td>4.0</td>\n",
              "      <td>NaN</td>\n",
              "      <td>EE</td>\n",
              "      <td>Mechanical failure during fuel loading at the ...</td>\n",
              "      <td>0</td>\n",
              "    </tr>\n",
              "    <tr>\n",
              "      <th>11</th>\n",
              "      <td>1968-05-01</td>\n",
              "      <td>Sellafield, UK</td>\n",
              "      <td>1900.0</td>\n",
              "      <td>4.0</td>\n",
              "      <td>4.0</td>\n",
              "      <td>WE</td>\n",
              "      <td>A month long discharge of radioactivity occurs...</td>\n",
              "      <td>0</td>\n",
              "    </tr>\n",
              "    <tr>\n",
              "      <th>12</th>\n",
              "      <td>1957-09-29</td>\n",
              "      <td>Kyshtym, Chelyabinsk, Soviet Union</td>\n",
              "      <td>1733.4</td>\n",
              "      <td>6.0</td>\n",
              "      <td>7.3</td>\n",
              "      <td>EE</td>\n",
              "      <td>Heat exchangers failed at nitrate storage tank...</td>\n",
              "      <td>103</td>\n",
              "    </tr>\n",
              "    <tr>\n",
              "      <th>13</th>\n",
              "      <td>1955-11-29</td>\n",
              "      <td>Idaho Falls, Idaho, United States</td>\n",
              "      <td>1500.0</td>\n",
              "      <td>4.0</td>\n",
              "      <td>NaN</td>\n",
              "      <td>NaN</td>\n",
              "      <td>Suffered a partial meltdown during a coolant f...</td>\n",
              "      <td>0</td>\n",
              "    </tr>\n",
              "    <tr>\n",
              "      <th>14</th>\n",
              "      <td>1971-03-19</td>\n",
              "      <td>Sellafield, UK</td>\n",
              "      <td>1330.0</td>\n",
              "      <td>3.0</td>\n",
              "      <td>3.2</td>\n",
              "      <td>WE</td>\n",
              "      <td>Sparks from an electric arc ignited radioactiv...</td>\n",
              "      <td>0</td>\n",
              "    </tr>\n",
              "    <tr>\n",
              "      <th>15</th>\n",
              "      <td>1955-12-08</td>\n",
              "      <td>Sellafield, UK</td>\n",
              "      <td>1300.0</td>\n",
              "      <td>3.0</td>\n",
              "      <td>-2.7</td>\n",
              "      <td>WE</td>\n",
              "      <td>A fire occurred in a radioactive waste silo in...</td>\n",
              "      <td>0</td>\n",
              "    </tr>\n",
              "    <tr>\n",
              "      <th>17</th>\n",
              "      <td>1949-12-02</td>\n",
              "      <td>Hanford, WA, USA</td>\n",
              "      <td>1100.0</td>\n",
              "      <td>4.0</td>\n",
              "      <td>3.8</td>\n",
              "      <td>NaN</td>\n",
              "      <td>Operators release 8,000 curies of iodine-131 o...</td>\n",
              "      <td>0</td>\n",
              "    </tr>\n",
              "    <tr>\n",
              "      <th>18</th>\n",
              "      <td>1967-05-01</td>\n",
              "      <td>Chapelcross, UK</td>\n",
              "      <td>1100.0</td>\n",
              "      <td>4.0</td>\n",
              "      <td>NaN</td>\n",
              "      <td>WE</td>\n",
              "      <td>Fuel element melt and fire in part of core, 2 ...</td>\n",
              "      <td>0</td>\n",
              "    </tr>\n",
              "    <tr>\n",
              "      <th>21</th>\n",
              "      <td>1973-09-26</td>\n",
              "      <td>Sellafield, UK</td>\n",
              "      <td>990.0</td>\n",
              "      <td>4.0</td>\n",
              "      <td>2.0</td>\n",
              "      <td>WE</td>\n",
              "      <td>An exothermic reaction occurred involving accu...</td>\n",
              "      <td>0</td>\n",
              "    </tr>\n",
              "    <tr>\n",
              "      <th>24</th>\n",
              "      <td>1961-06-19</td>\n",
              "      <td>Sellafield, UK</td>\n",
              "      <td>800.0</td>\n",
              "      <td>3.0</td>\n",
              "      <td>4.0</td>\n",
              "      <td>NaN</td>\n",
              "      <td>There was a release of plutonium bearing liqui...</td>\n",
              "      <td>0</td>\n",
              "    </tr>\n",
              "    <tr>\n",
              "      <th>25</th>\n",
              "      <td>1966-10-05</td>\n",
              "      <td>Newport, Michigan, United States</td>\n",
              "      <td>793.9</td>\n",
              "      <td>4.0</td>\n",
              "      <td>NaN</td>\n",
              "      <td>NaN</td>\n",
              "      <td>Fermi 1, a prototype fast breeder reactor, suf...</td>\n",
              "      <td>0</td>\n",
              "    </tr>\n",
              "    <tr>\n",
              "      <th>26</th>\n",
              "      <td>1972-12-21</td>\n",
              "      <td>Pawling, NY, USA</td>\n",
              "      <td>788.4</td>\n",
              "      <td>4.0</td>\n",
              "      <td>NaN</td>\n",
              "      <td>NaN</td>\n",
              "      <td>Tube repairs lead to a loss of coolant acciden...</td>\n",
              "      <td>0</td>\n",
              "    </tr>\n",
              "    <tr>\n",
              "      <th>29</th>\n",
              "      <td>1969-10-17</td>\n",
              "      <td>Saint-Laurent, France</td>\n",
              "      <td>541.4</td>\n",
              "      <td>4.0</td>\n",
              "      <td>NaN</td>\n",
              "      <td>WE</td>\n",
              "      <td>More than 50 kilograms of uranium fuel at the ...</td>\n",
              "      <td>0</td>\n",
              "    </tr>\n",
              "    <tr>\n",
              "      <th>30</th>\n",
              "      <td>1975-12-07</td>\n",
              "      <td>Greifswald, East Germany</td>\n",
              "      <td>511.5</td>\n",
              "      <td>3.0</td>\n",
              "      <td>NaN</td>\n",
              "      <td>EE</td>\n",
              "      <td>Electrical error caused fire in the main troug...</td>\n",
              "      <td>0</td>\n",
              "    </tr>\n",
              "    <tr>\n",
              "      <th>33</th>\n",
              "      <td>1969-05-11</td>\n",
              "      <td>Rocky Flats, USA</td>\n",
              "      <td>425.2</td>\n",
              "      <td>4.0</td>\n",
              "      <td>2.3</td>\n",
              "      <td>NaN</td>\n",
              "      <td>Plutonium fire broke out in the processing sec...</td>\n",
              "      <td>0</td>\n",
              "    </tr>\n",
              "    <tr>\n",
              "      <th>38</th>\n",
              "      <td>1975-03-22</td>\n",
              "      <td>Browns Ferry, Alabama, United States</td>\n",
              "      <td>277.1</td>\n",
              "      <td>NaN</td>\n",
              "      <td>NaN</td>\n",
              "      <td>NaN</td>\n",
              "      <td>Fire burned for seven hours and damaged more t...</td>\n",
              "      <td>0</td>\n",
              "    </tr>\n",
              "    <tr>\n",
              "      <th>41</th>\n",
              "      <td>1971-12-15</td>\n",
              "      <td>Sellafield, UK</td>\n",
              "      <td>180.0</td>\n",
              "      <td>3.0</td>\n",
              "      <td>3.2</td>\n",
              "      <td>WE</td>\n",
              "      <td>An abnormal discharge took place from the Buil...</td>\n",
              "      <td>0</td>\n",
              "    </tr>\n",
              "    <tr>\n",
              "      <th>44</th>\n",
              "      <td>1970-03-10</td>\n",
              "      <td>Sellafield, UK</td>\n",
              "      <td>150.0</td>\n",
              "      <td>3.0</td>\n",
              "      <td>2.6</td>\n",
              "      <td>WE</td>\n",
              "      <td>Abnormal discharge of about 1.8 GBq Pu via the...</td>\n",
              "      <td>0</td>\n",
              "    </tr>\n",
              "    <tr>\n",
              "      <th>52</th>\n",
              "      <td>1970-02-10</td>\n",
              "      <td>Sellafield, UK</td>\n",
              "      <td>100.0</td>\n",
              "      <td>3.0</td>\n",
              "      <td>2.0</td>\n",
              "      <td>WE</td>\n",
              "      <td>Abnormal discharge of Pu via the Building B230...</td>\n",
              "      <td>0</td>\n",
              "    </tr>\n",
              "    <tr>\n",
              "      <th>53</th>\n",
              "      <td>1970-11-29</td>\n",
              "      <td>Sellafield, UK</td>\n",
              "      <td>100.0</td>\n",
              "      <td>3.0</td>\n",
              "      <td>2.5</td>\n",
              "      <td>WE</td>\n",
              "      <td>An abnormal discharge of about 1.6 GBq Pu took...</td>\n",
              "      <td>0</td>\n",
              "    </tr>\n",
              "    <tr>\n",
              "      <th>54</th>\n",
              "      <td>1975-11-30</td>\n",
              "      <td>Leningrad, Russia</td>\n",
              "      <td>99.5</td>\n",
              "      <td>4.0</td>\n",
              "      <td>NaN</td>\n",
              "      <td>EE</td>\n",
              "      <td>A fuel channel in Unit 1 suffered a loss of co...</td>\n",
              "      <td>0</td>\n",
              "    </tr>\n",
              "    <tr>\n",
              "      <th>55</th>\n",
              "      <td>1972-12-06</td>\n",
              "      <td>Sellafield, UK</td>\n",
              "      <td>98.0</td>\n",
              "      <td>3.0</td>\n",
              "      <td>1.6</td>\n",
              "      <td>WE</td>\n",
              "      <td>Inadvertent processing of fuel elements from C...</td>\n",
              "      <td>0</td>\n",
              "    </tr>\n",
              "    <tr>\n",
              "      <th>56</th>\n",
              "      <td>1957-10-08</td>\n",
              "      <td>Windscale, United Kingdom</td>\n",
              "      <td>89.9</td>\n",
              "      <td>5.0</td>\n",
              "      <td>4.6</td>\n",
              "      <td>WE</td>\n",
              "      <td>Fire ignited plutonium piles, created radioact...</td>\n",
              "      <td>33</td>\n",
              "    </tr>\n",
              "    <tr>\n",
              "      <th>58</th>\n",
              "      <td>1967-05-02</td>\n",
              "      <td>Dumfries and Galloway, Scotland</td>\n",
              "      <td>87.7</td>\n",
              "      <td>4.0</td>\n",
              "      <td>NaN</td>\n",
              "      <td>WE</td>\n",
              "      <td>Fuel rod caught fire and caused partial meltdo...</td>\n",
              "      <td>0</td>\n",
              "    </tr>\n",
              "    <tr>\n",
              "      <th>60</th>\n",
              "      <td>1969-03-05</td>\n",
              "      <td>Sellafield, UK</td>\n",
              "      <td>84.5</td>\n",
              "      <td>3.0</td>\n",
              "      <td>1.6</td>\n",
              "      <td>WE</td>\n",
              "      <td>A spillage of 370 MBq Pu in Building B229 labo...</td>\n",
              "      <td>0</td>\n",
              "    </tr>\n",
              "    <tr>\n",
              "      <th>62</th>\n",
              "      <td>1958-05-24</td>\n",
              "      <td>Chalk River, Ontario, Canada</td>\n",
              "      <td>77.0</td>\n",
              "      <td>5.0</td>\n",
              "      <td>NaN</td>\n",
              "      <td>NaN</td>\n",
              "      <td>Fuel rod caught fire and contaminated half of ...</td>\n",
              "      <td>0</td>\n",
              "    </tr>\n",
              "    <tr>\n",
              "      <th>70</th>\n",
              "      <td>1970-08-06</td>\n",
              "      <td>Lawrence Livermore, CA, USA</td>\n",
              "      <td>60.1</td>\n",
              "      <td>4.0</td>\n",
              "      <td>3.6</td>\n",
              "      <td>NaN</td>\n",
              "      <td>Accident released about 650,000 curies of trit...</td>\n",
              "      <td>0</td>\n",
              "    </tr>\n",
              "    <tr>\n",
              "      <th>73</th>\n",
              "      <td>1952-12-12</td>\n",
              "      <td>Chalk River, Ontario, Canada</td>\n",
              "      <td>52.4</td>\n",
              "      <td>NaN</td>\n",
              "      <td>NaN</td>\n",
              "      <td>NaN</td>\n",
              "      <td>Hydrogen explosion damaged reactor interior an...</td>\n",
              "      <td>0</td>\n",
              "    </tr>\n",
              "    <tr>\n",
              "      <th>86</th>\n",
              "      <td>1960-03-04</td>\n",
              "      <td>Waltz Mill, USA</td>\n",
              "      <td>38.0</td>\n",
              "      <td>4.0</td>\n",
              "      <td>NaN</td>\n",
              "      <td>NaN</td>\n",
              "      <td>Core melt accident</td>\n",
              "      <td>0</td>\n",
              "    </tr>\n",
              "    <tr>\n",
              "      <th>87</th>\n",
              "      <td>1959-07-26</td>\n",
              "      <td>Simi Valley, California, United States</td>\n",
              "      <td>37.5</td>\n",
              "      <td>4.0</td>\n",
              "      <td>NaN</td>\n",
              "      <td>NaN</td>\n",
              "      <td>Partial core meltdown at Santa Susana Field La...</td>\n",
              "      <td>0</td>\n",
              "    </tr>\n",
              "    <tr>\n",
              "      <th>95</th>\n",
              "      <td>1961-01-03</td>\n",
              "      <td>Idaho Falls, Idaho, United States</td>\n",
              "      <td>25.7</td>\n",
              "      <td>4.0</td>\n",
              "      <td>2.9</td>\n",
              "      <td>NaN</td>\n",
              "      <td>Explosion at National Reactor Testing Station</td>\n",
              "      <td>3</td>\n",
              "    </tr>\n",
              "    <tr>\n",
              "      <th>96</th>\n",
              "      <td>1969-01-21</td>\n",
              "      <td>Lucens, Canton of Vaud, Switzerland</td>\n",
              "      <td>25.7</td>\n",
              "      <td>5.0</td>\n",
              "      <td>NaN</td>\n",
              "      <td>WE</td>\n",
              "      <td>Coolant system malfunctioned at underground ex...</td>\n",
              "      <td>0</td>\n",
              "    </tr>\n",
              "    <tr>\n",
              "      <th>101</th>\n",
              "      <td>1977-06-10</td>\n",
              "      <td>Waterford, Connecticut, United States</td>\n",
              "      <td>17.1</td>\n",
              "      <td>NaN</td>\n",
              "      <td>NaN</td>\n",
              "      <td>NaN</td>\n",
              "      <td>Hydrogen gas explosion damaged three buildings...</td>\n",
              "      <td>0</td>\n",
              "    </tr>\n",
              "    <tr>\n",
              "      <th>103</th>\n",
              "      <td>1969-05-01</td>\n",
              "      <td>Stockholm, Sweden</td>\n",
              "      <td>16.1</td>\n",
              "      <td>NaN</td>\n",
              "      <td>NaN</td>\n",
              "      <td>WE</td>\n",
              "      <td>Malfunction of valve caused flooding in Agesta...</td>\n",
              "      <td>0</td>\n",
              "    </tr>\n",
              "    <tr>\n",
              "      <th>106</th>\n",
              "      <td>1975-11-05</td>\n",
              "      <td>Brownsville, Nebraska, United States</td>\n",
              "      <td>15.0</td>\n",
              "      <td>NaN</td>\n",
              "      <td>NaN</td>\n",
              "      <td>NaN</td>\n",
              "      <td>Hydrogen gas explosion damaged the Cooper Nucl...</td>\n",
              "      <td>0</td>\n",
              "    </tr>\n",
              "    <tr>\n",
              "      <th>108</th>\n",
              "      <td>1979-02-04</td>\n",
              "      <td>Surry, Virginia, United States</td>\n",
              "      <td>13.9</td>\n",
              "      <td>NaN</td>\n",
              "      <td>NaN</td>\n",
              "      <td>NaN</td>\n",
              "      <td>Virginia Electric Power Company manually shut ...</td>\n",
              "      <td>0</td>\n",
              "    </tr>\n",
              "    <tr>\n",
              "      <th>115</th>\n",
              "      <td>1973-08-11</td>\n",
              "      <td>Palisades, Michigan, United States</td>\n",
              "      <td>11.8</td>\n",
              "      <td>NaN</td>\n",
              "      <td>NaN</td>\n",
              "      <td>NaN</td>\n",
              "      <td>Steam generator leak caused manual shutdown of...</td>\n",
              "      <td>0</td>\n",
              "    </tr>\n",
              "    <tr>\n",
              "      <th>121</th>\n",
              "      <td>1975-02-06</td>\n",
              "      <td>Leningrad, Russia</td>\n",
              "      <td>11.4</td>\n",
              "      <td>4.0</td>\n",
              "      <td>NaN</td>\n",
              "      <td>EE</td>\n",
              "      <td>The secondary cooling circuit of Unit 1 ruptur...</td>\n",
              "      <td>3</td>\n",
              "    </tr>\n",
              "    <tr>\n",
              "      <th>130</th>\n",
              "      <td>1965-01-20</td>\n",
              "      <td>Lawrence Livermore, CA, USA</td>\n",
              "      <td>6.1</td>\n",
              "      <td>4.0</td>\n",
              "      <td>3.7</td>\n",
              "      <td>NaN</td>\n",
              "      <td>Roughly 350,000 Ci were released from a stack ...</td>\n",
              "      <td>0</td>\n",
              "    </tr>\n",
              "    <tr>\n",
              "      <th>135</th>\n",
              "      <td>1974-10-31</td>\n",
              "      <td>Morris, Grundy County, Illinois, USA</td>\n",
              "      <td>4.4</td>\n",
              "      <td>NaN</td>\n",
              "      <td>NaN</td>\n",
              "      <td>NaN</td>\n",
              "      <td>Dresden nuclear power plant suffers a xenon tr...</td>\n",
              "      <td>0</td>\n",
              "    </tr>\n",
              "    <tr>\n",
              "      <th>157</th>\n",
              "      <td>1972-07-27</td>\n",
              "      <td>Surry, Virginia, United States</td>\n",
              "      <td>1.2</td>\n",
              "      <td>NaN</td>\n",
              "      <td>NaN</td>\n",
              "      <td>NaN</td>\n",
              "      <td>Two deaths in steam line rupture and accident</td>\n",
              "      <td>2</td>\n",
              "    </tr>\n",
              "    <tr>\n",
              "      <th>158</th>\n",
              "      <td>1971-07-16</td>\n",
              "      <td>Cordova, Illinois, United States</td>\n",
              "      <td>1.1</td>\n",
              "      <td>NaN</td>\n",
              "      <td>NaN</td>\n",
              "      <td>NaN</td>\n",
              "      <td>An electrician was electrocuted by a live cabl...</td>\n",
              "      <td>1</td>\n",
              "    </tr>\n",
              "    <tr>\n",
              "      <th>161</th>\n",
              "      <td>1946-05-21</td>\n",
              "      <td>Los Alamos, New Mexico</td>\n",
              "      <td>0.0</td>\n",
              "      <td>NaN</td>\n",
              "      <td>NaN</td>\n",
              "      <td>NaN</td>\n",
              "      <td>Death due to citicality accident at Los Alamos...</td>\n",
              "      <td>1</td>\n",
              "    </tr>\n",
              "    <tr>\n",
              "      <th>162</th>\n",
              "      <td>1958-04-13</td>\n",
              "      <td>Chelyabinsk, Soviet Union</td>\n",
              "      <td>0.0</td>\n",
              "      <td>NaN</td>\n",
              "      <td>NaN</td>\n",
              "      <td>EE</td>\n",
              "      <td>Three died and one was injured in a super crit...</td>\n",
              "      <td>3</td>\n",
              "    </tr>\n",
              "    <tr>\n",
              "      <th>163</th>\n",
              "      <td>1958-10-15</td>\n",
              "      <td>Vinca, Yugoslavia</td>\n",
              "      <td>0.0</td>\n",
              "      <td>4.0</td>\n",
              "      <td>NaN</td>\n",
              "      <td>EE</td>\n",
              "      <td>Death due to citicality accident at Boris Kidr...</td>\n",
              "      <td>1</td>\n",
              "    </tr>\n",
              "    <tr>\n",
              "      <th>164</th>\n",
              "      <td>1958-12-30</td>\n",
              "      <td>Los Alamos, New Mexico</td>\n",
              "      <td>0.0</td>\n",
              "      <td>NaN</td>\n",
              "      <td>NaN</td>\n",
              "      <td>NaN</td>\n",
              "      <td>Death due to citicality accident at Los Alamos...</td>\n",
              "      <td>1</td>\n",
              "    </tr>\n",
              "    <tr>\n",
              "      <th>165</th>\n",
              "      <td>1964-07-23</td>\n",
              "      <td>Rhode Island, United States</td>\n",
              "      <td>0.0</td>\n",
              "      <td>4.0</td>\n",
              "      <td>NaN</td>\n",
              "      <td>NaN</td>\n",
              "      <td>Operator death due to super critical accident ...</td>\n",
              "      <td>1</td>\n",
              "    </tr>\n",
              "    <tr>\n",
              "      <th>166</th>\n",
              "      <td>1968-04-05</td>\n",
              "      <td>Chelyabinsk, Soviet Union</td>\n",
              "      <td>0.0</td>\n",
              "      <td>5.0</td>\n",
              "      <td>5.0</td>\n",
              "      <td>EE</td>\n",
              "      <td>Technician died from exposure after initiating...</td>\n",
              "      <td>1</td>\n",
              "    </tr>\n",
              "    <tr>\n",
              "      <th>167</th>\n",
              "      <td>1971-02-11</td>\n",
              "      <td>Moscow, Russia</td>\n",
              "      <td>0.0</td>\n",
              "      <td>4.0</td>\n",
              "      <td>NaN</td>\n",
              "      <td>EE</td>\n",
              "      <td>Supervisor died after criticality accident at ...</td>\n",
              "      <td>1</td>\n",
              "    </tr>\n",
              "    <tr>\n",
              "      <th>168</th>\n",
              "      <td>1976-01-05</td>\n",
              "      <td>Jaslovske Bohunice, Czechoslovakia</td>\n",
              "      <td>0.0</td>\n",
              "      <td>NaN</td>\n",
              "      <td>NaN</td>\n",
              "      <td>EE</td>\n",
              "      <td>Leaked carbon dioxide from a KS 150’s reactor ...</td>\n",
              "      <td>2</td>\n",
              "    </tr>\n",
              "  </tbody>\n",
              "</table>\n",
              "</div>"
            ],
            "text/plain": [
              "          Date  ... Fatalities\n",
              "4   1957-09-11  ...          0\n",
              "5   1955-03-25  ...          0\n",
              "6   1977-01-01  ...          0\n",
              "7   1955-07-14  ...          0\n",
              "8   1969-10-12  ...          0\n",
              "10  1977-02-22  ...          0\n",
              "11  1968-05-01  ...          0\n",
              "12  1957-09-29  ...        103\n",
              "13  1955-11-29  ...          0\n",
              "14  1971-03-19  ...          0\n",
              "15  1955-12-08  ...          0\n",
              "17  1949-12-02  ...          0\n",
              "18  1967-05-01  ...          0\n",
              "21  1973-09-26  ...          0\n",
              "24  1961-06-19  ...          0\n",
              "25  1966-10-05  ...          0\n",
              "26  1972-12-21  ...          0\n",
              "29  1969-10-17  ...          0\n",
              "30  1975-12-07  ...          0\n",
              "33  1969-05-11  ...          0\n",
              "38  1975-03-22  ...          0\n",
              "41  1971-12-15  ...          0\n",
              "44  1970-03-10  ...          0\n",
              "52  1970-02-10  ...          0\n",
              "53  1970-11-29  ...          0\n",
              "54  1975-11-30  ...          0\n",
              "55  1972-12-06  ...          0\n",
              "56  1957-10-08  ...         33\n",
              "58  1967-05-02  ...          0\n",
              "60  1969-03-05  ...          0\n",
              "62  1958-05-24  ...          0\n",
              "70  1970-08-06  ...          0\n",
              "73  1952-12-12  ...          0\n",
              "86  1960-03-04  ...          0\n",
              "87  1959-07-26  ...          0\n",
              "95  1961-01-03  ...          3\n",
              "96  1969-01-21  ...          0\n",
              "101 1977-06-10  ...          0\n",
              "103 1969-05-01  ...          0\n",
              "106 1975-11-05  ...          0\n",
              "108 1979-02-04  ...          0\n",
              "115 1973-08-11  ...          0\n",
              "121 1975-02-06  ...          3\n",
              "130 1965-01-20  ...          0\n",
              "135 1974-10-31  ...          0\n",
              "157 1972-07-27  ...          2\n",
              "158 1971-07-16  ...          1\n",
              "161 1946-05-21  ...          1\n",
              "162 1958-04-13  ...          3\n",
              "163 1958-10-15  ...          1\n",
              "164 1958-12-30  ...          1\n",
              "165 1964-07-23  ...          1\n",
              "166 1968-04-05  ...          1\n",
              "167 1971-02-11  ...          1\n",
              "168 1976-01-05  ...          2\n",
              "\n",
              "[55 rows x 8 columns]"
            ]
          },
          "metadata": {},
          "execution_count": 2
        }
      ]
    },
    {
      "cell_type": "code",
      "metadata": {
        "colab": {
          "base_uri": "https://localhost:8080/"
        },
        "id": "aOxe4jQLXQej",
        "outputId": "86def4d3-7845-43fd-a832-94bec57dc15e"
      },
      "source": [
        "x = np.array(df[\"Cost (millions 2013US$)\"])\n",
        "len(x)"
      ],
      "execution_count": null,
      "outputs": [
        {
          "output_type": "execute_result",
          "data": {
            "text/plain": [
              "55"
            ]
          },
          "metadata": {},
          "execution_count": 3
        }
      ]
    },
    {
      "cell_type": "markdown",
      "metadata": {
        "id": "prg-BTLmZDR5"
      },
      "source": [
        "On a un vecteur de taille 55"
      ]
    },
    {
      "cell_type": "markdown",
      "metadata": {
        "id": "ma4g3-_EYaod"
      },
      "source": [
        "#### **2-)** "
      ]
    },
    {
      "cell_type": "markdown",
      "metadata": {
        "id": "4E2P-6wAZlPp"
      },
      "source": [
        "##### **a)**\n",
        "Soit $X \\sim N(\\mu,\\sigma^2)$, on a la fonction de répartition (ou fonction de distribution cumulative) suivante:\n",
        "\n",
        "\\begin{equation}\n",
        "F_{X}(x) = \\frac{1}{2}\\left(1+ erf\\left({\\frac{x-\\mu}{\\sigma\\sqrt{2}}}\\right)\\right)\n",
        "\\end{equation}\n",
        "\n",
        "Comme $F_{X}(x)$ est strictement croissante et continue, la fonction quantile $Q_{X}(p)$ est la fonction reciproque de $F_X$.\n",
        "\n",
        "\\begin{equation}\n",
        "Q_{X}(p) = {F_X}^{-1}(x)\n",
        "\\end{equation}\n",
        "\n",
        "\\begin{equation}\n",
        "p  = \\frac{1}{2}\\left(1+ erf\\left({\\frac{x-\\mu}{\\sigma\\sqrt{2}}}\\right)\\right)\n",
        "\\end{equation}\n",
        "\n",
        "\n",
        "\n",
        "\\begin{equation}\n",
        "2p - 1  = erf\\left(\\frac{x-\\mu}{\\sigma\\sqrt{2}}\\right)\n",
        "\\end{equation}\n",
        "\n",
        "\n",
        "\\begin{equation}\n",
        "{erf}^{-1}(2p - 1)  = \\frac{x-\\mu}{\\sigma\\sqrt{2}}\n",
        "\\end{equation}\n",
        "\n",
        "\n",
        "\\begin{equation}\n",
        "x =  {erf}^{-1}(2p - 1)\\sigma \\sqrt{2} + \\mu\n",
        "\\end{equation}\n",
        "\n",
        "\n",
        "Donc,\n",
        "\n",
        "\\begin{equation}\n",
        "Q(p;\\sigma^2,\\mu) =  {erf}^{-1}(2p - 1)\\sigma \\sqrt{2} + \\mu\n",
        "\\end{equation}\n",
        "\n",
        "\n",
        "Pour le cas dont $\\sigma^2 = 1$ et $\\mu = 0$:\n",
        "\n",
        "\\begin{equation}\n",
        "Q(p;1,0) =  {erf}^{-1}(2p - 1) \\sqrt{2}\n",
        "\\end{equation}\n",
        "\n",
        "\n",
        "Ainsi,\n",
        "\n",
        "\\begin{equation}\n",
        "Q(p;\\sigma^2,\\mu) = Q(p;1,0)\\sigma  + \\mu\n",
        "\\end{equation}\n",
        "\n",
        "C'est-à-dire que les quantiles de la loi normale avec les paramètres arbitraires\n",
        "et ceux de la loi normale centrée réduite sont linéairement dépendants.\n",
        "\n"
      ]
    },
    {
      "cell_type": "markdown",
      "metadata": {
        "id": "TNvf5uQmvmKx"
      },
      "source": [
        "##### **b)**"
      ]
    },
    {
      "cell_type": "code",
      "metadata": {
        "colab": {
          "base_uri": "https://localhost:8080/",
          "height": 295
        },
        "id": "PkamISyzvugO",
        "outputId": "f0cf44c1-890b-4212-d1a8-92f713b5a803"
      },
      "source": [
        "stats.probplot(x, dist='norm',plot=plt)\n",
        "plt.title('QQ-plot de données pour la loi normale')\n",
        "plt.ylabel('Cost')\n",
        "plt.xlabel('Normal distribution')\n",
        "plt.show()"
      ],
      "execution_count": null,
      "outputs": [
        {
          "output_type": "display_data",
          "data": {
            "image/png": "[encoded data removed]",
            "text/plain": [
              "<Figure size 432x288 with 1 Axes>"
            ]
          },
          "metadata": {
            "needs_background": "light"
          }
        }
      ]
    },
    {
      "cell_type": "markdown",
      "metadata": {
        "id": "Un1L472efDft"
      },
      "source": [
        "#### **3-)** "
      ]
    },
    {
      "cell_type": "markdown",
      "metadata": {
        "id": "y3vzAaQufHxv"
      },
      "source": [
        "##### **a)**\n",
        "Soit $X \\sim \\varepsilon(\\lambda)$, on a la fonction de répartition (ou fonction de distribution cumulative) suivante:\n",
        "\n",
        "\\begin{equation}\n",
        "F_{X}(x) = 1 -e^{-\\lambda x}, x \\geq 0 \n",
        "\\end{equation}\n",
        "\n",
        "\\begin{equation}\n",
        "F_{X}(x) = 0, x <  0 \n",
        "\\end{equation}\n",
        "\n",
        "Comme $F_{X}(x)$ est strictement croissante et continue, la fonction quantile $Q_{X}(p)$ est la fonction reciproque de $F_X$.\n",
        "\n",
        "\\begin{equation}\n",
        "Q_{X}(p) = {F_X}^{-1}(x)\n",
        "\\end{equation}\n",
        "\n",
        "\\begin{equation}\n",
        "p  = 1 -e^{-\\lambda x}\n",
        "\\end{equation}\n",
        "\n",
        "\\begin{equation}\n",
        "x = -\\frac{ln(1 - p)}{\\lambda}\n",
        "\\end{equation}\n",
        "\n",
        "Donc,\n",
        "\n",
        "\\begin{equation}\n",
        "Q_{X}(p;\\lambda) = -\\frac{ln(1 - p)}{\\lambda}\n",
        "\\end{equation}\n",
        "\n",
        "Pour le cas dont $\\lambda = 1$:\n",
        "\n",
        "\\begin{equation}\n",
        "Q_{X}(p;1) = -ln(1 - p)\n",
        "\\end{equation}\n",
        "\n",
        "Ainsi,\n",
        "\n",
        "\\begin{equation}\n",
        "Q_{X}(p;\\lambda) = \\frac{Q_{X}(p;1)}{\\lambda}\n",
        "\\end{equation}\n",
        "\n",
        "pour $p \\in (0,1)$\n"
      ]
    },
    {
      "cell_type": "markdown",
      "metadata": {
        "id": "9qdPK6_t0aWd"
      },
      "source": [
        "#### **b)**"
      ]
    },
    {
      "cell_type": "code",
      "metadata": {
        "colab": {
          "base_uri": "https://localhost:8080/",
          "height": 295
        },
        "id": "nkv-Ouox0gSw",
        "outputId": "2761dc53-1dcb-42c1-c8b1-84f9ad3935cc"
      },
      "source": [
        "stats.probplot(x, dist='expon',plot=plt)\n",
        "plt.title('QQ-plot de données pour la loi exponentielle')\n",
        "plt.ylabel('Cost')\n",
        "plt.xlabel('Exponential distribution')\n",
        "plt.show()"
      ],
      "execution_count": null,
      "outputs": [
        {
          "output_type": "display_data",
          "data": {
            "image/png": "[encoded data removed]",
            "text/plain": [
              "<Figure size 432x288 with 1 Axes>"
            ]
          },
          "metadata": {
            "needs_background": "light"
          }
        }
      ]
    },
    {
      "cell_type": "markdown",
      "metadata": {
        "id": "HXGyOn3hfpCo"
      },
      "source": [
        "#### **4-)**\n",
        "En comparant le QQ-plot, on conclue que la loi exponentielle  semble être plus plausible pour les données.  Dans le cas de la loi exponentielle, nous pouvons voir que les données sont très proches de la ligne rouge.\n",
        " "
      ]
    },
    {
      "cell_type": "markdown",
      "metadata": {
        "id": "0OW3_JlKhapv"
      },
      "source": [
        "## **Exercise 2**"
      ]
    },
    {
      "cell_type": "markdown",
      "metadata": {
        "id": "Mg1RoKdBiKNU"
      },
      "source": [
        "#### **1-)**\n",
        "Pour calculer une estimateur du maximum de vraisemblance $\\hat{\\lambda}_n$, on a la loi exponentielle:\n",
        "\n",
        "\\begin{equation}\n",
        "P_{\\lambda}(X1 > x) = e^{-\\lambda x}, \\; x \\geq 0\n",
        "\\end{equation}\n",
        "\n",
        "\\begin{equation}\n",
        "P_{\\lambda}(X1 > x) = 1, \\; x < 0\n",
        "\\end{equation}\n",
        "\n",
        "On calcule la fonction de répartition:\n",
        "\n",
        "\\begin{equation}\n",
        "F_{\\lambda}(x) = 1 - e^{-\\lambda x},\\; x\\geq 0\n",
        "\\end{equation}\n",
        "\n",
        "Alors, on calcule la distribuition de probabilité:\n",
        "\n",
        "\\begin{equation}\n",
        "p_{\\lambda}(x) = \\frac{dF_{\\lambda}(x)}{dx} = \\lambda e^{-\\lambda x}\n",
        "\\end{equation}\n",
        "\n",
        "Pour le cas dont $X = \\{X_1, ... ,X_n\\}$,\n",
        "\n",
        "\n",
        "\\begin{equation}\n",
        "p_{\\lambda}^{\\otimes n}(X) = \\prod_{i=1}^{n}p_{\\lambda}(x_i)\n",
        "\\end{equation}\n",
        "\n",
        "En faisant le méthode de maximum vraisemblance:\n",
        "\n",
        "\\begin{equation}\n",
        "\\log{p_{\\lambda}^{\\otimes n}(X)} = \\log{\\left(\\prod_{i=1}^{n}p_{\\lambda}(x_i)\\right)} = \\sum_{i=1}^{n}\\log{(p_{\\lambda}(x_i))}\n",
        "\\end{equation}\n",
        "\n",
        "\\begin{equation}\n",
        "\\log{p_{\\lambda}^{\\otimes n}(X)} = n \\log{(\\lambda)} - \\lambda\\sum_{i=1}^{n}x_i\n",
        "\\end{equation}\n",
        "\n",
        "l'estimateur $\\hat{\\lambda}_n$ est $argmax_{\\lambda}(\\log{p_{\\lambda}^{\\otimes n}(X)}) $\n",
        "\n",
        "\\begin{equation}\n",
        "\\frac{\\partial \\log{p_{\\lambda}^{\\otimes n}(X)}}{\\partial \\lambda} = \\frac{n}{\\lambda} -\\sum_{i=1}^{n}x_i = 0 \n",
        "\\end{equation}\n",
        "\n",
        "Donc,\n",
        "\n",
        "\\begin{equation}\n",
        "\\hat{\\lambda}_n = \\frac{n}{\\sum_{i=1}^{n}x_i} \n",
        "\\end{equation}"
      ]
    },
    {
      "cell_type": "code",
      "metadata": {
        "colab": {
          "base_uri": "https://localhost:8080/"
        },
        "id": "6XG26Aosr3mJ",
        "outputId": "b91368df-c645-4c08-8824-0446e6a02878"
      },
      "source": [
        "Lambda_Estimator = len(x)/x.sum() \n",
        "print(\"Lambda:\",Lambda_Estimator)"
      ],
      "execution_count": null,
      "outputs": [
        {
          "output_type": "stream",
          "name": "stdout",
          "text": [
            "Lambda: 0.0013767725947156965\n"
          ]
        }
      ]
    },
    {
      "cell_type": "markdown",
      "metadata": {
        "id": "WaD8AWBAs4io"
      },
      "source": [
        "#### **2-)**\n",
        "On trace l’histogramme de données et la\n",
        "densité de probabilité de la loi exponentielle avec le paramètre calculé ($\\hat{\\lambda}_n = 0.00138$)."
      ]
    },
    {
      "cell_type": "code",
      "metadata": {
        "colab": {
          "base_uri": "https://localhost:8080/",
          "height": 336
        },
        "id": "NsRjQT1Xt__m",
        "outputId": "23f0bb6b-457a-428f-c78a-6611680c3f3a"
      },
      "source": [
        "#histogram\n",
        "sns.distplot(x,rug=False,kde=True,label =\"Histogramme de données\")\n",
        "\n",
        "#pdf\n",
        "t = np.linspace(x.min(),x.max())\n",
        "pdf = Lambda_Estimator*np.exp(-Lambda_Estimator*t)\n",
        "plt.plot(t,pdf, label =\"Loi exponentielle\")\n",
        "\n",
        "#plot\n",
        "plt.title('Densité de la loi exponentielle et l\\'histogramme')\n",
        "plt.legend()\n",
        "plt.show()"
      ],
      "execution_count": null,
      "outputs": [
        {
          "output_type": "stream",
          "name": "stderr",
          "text": [
            "/usr/local/lib/python3.7/dist-packages/seaborn/distributions.py:2619: FutureWarning: `distplot` is a deprecated function and will be removed in a future version. Please adapt your code to use either `displot` (a figure-level function with similar flexibility) or `histplot` (an axes-level function for histograms).\n",
            "  warnings.warn(msg, FutureWarning)\n"
          ]
        },
        {
          "output_type": "display_data",
          "data": {
            "image/png": "[encoded data removed]",
            "text/plain": [
              "<Figure size 432x288 with 1 Axes>"
            ]
          },
          "metadata": {
            "needs_background": "light"
          }
        }
      ]
    },
    {
      "cell_type": "markdown",
      "metadata": {
        "id": "bXUiBFepx1dU"
      },
      "source": [
        "#### **3-)**\n",
        "Soit $T_1$ un estimateur pour $g_1(\\lambda) = \\frac{1}{\\lambda}$:\n",
        "\n",
        "\\begin{equation}\n",
        "T_1 = \\frac{1}{n}\\sum_{i=1}^n X_i\n",
        "\\end{equation}\n",
        "\n",
        "On montre que la statistiquela statistique $T_1(X)$ n'est pas  un estimateur biaisé pour $g_1(\\lambda)$:\n",
        "\n",
        "\\begin{equation}\n",
        "biais(g_1(\\lambda),T_1(X)) = E[T_1(X) - g_1(\\lambda)] = E[\\frac{1}{n}\\sum_{i=1}^{n}X_i]-E[\\frac{1}{\\lambda}] =\n",
        "\\end{equation}\n",
        "\n",
        "\\begin{equation}\n",
        " = \\frac{1}{n}nE[X_i] - \\frac{1}{\\lambda} = \\frac{1}{\\lambda} - \\frac{1}{\\lambda} = 0\n",
        "\\end{equation}\n",
        "\n",
        "\n",
        "On voit si l'estimateur respecte le borne de Cramer-Rao:\n",
        "\n",
        "\\begin{equation}\n",
        "Var_{\\lambda}[T_1(X)] \\leq \\frac{{g_1'(\\lambda)}^2}{I(\\lambda)}\n",
        "\\end{equation}\n",
        "\n",
        "On calcule la variance:\n",
        "\n",
        "\\begin{equation}\n",
        "Var_{\\lambda}[T_1(X)] = Var[\\frac{1}{n}\\sum_{i=1}^{n}X_i] = \\frac{1}{n^2}\\sum_{i=1}^{n}Var[X_i] = \\frac{1}{n^2}n\\left(\\frac{1}{\\lambda^2}\\right)=\\frac{1}{n \\lambda^2}\n",
        "\\end{equation}\n",
        "\n",
        "On calcule l'information de Fisher:\n",
        "\n",
        "\\begin{equation}\n",
        "I(\\lambda) = E\\left[\\left(\\frac{\\partial}{\\partial\\lambda}p_{\\lambda}(X,\\lambda)\\right)^2\\right]\n",
        "\\end{equation}\n",
        "\n",
        "Mais, on sait:\n",
        "\n",
        "\\begin{equation}\n",
        "I(\\lambda) = nI_{1}(\\lambda) = n E\\left[\\left(\\frac{\\partial}{\\partial\\lambda}p_{\\lambda}(X_1,\\lambda)\\right)^2\\right]\n",
        "\\end{equation}\n",
        "\n",
        "Alors,\n",
        "\n",
        "\\begin{equation}\n",
        "I(\\lambda) = nE\\left[\\left(\\frac{1}{\\lambda} - X_1\\right)^2\\right] = n\\left(\\frac{1}{\\lambda^2} - \\frac{2}{\\lambda}E\\left[X_1\\right] - E{[X_1}^2]\\right)\n",
        "\\end{equation}\n",
        "\n",
        "Mais la variance de une variable aleatoire exponentielle est $\\frac{1}{\\lambda^2}$ et l'espérance est $\\frac{1}{\\lambda}$,\n",
        "\n",
        "\\begin{equation}\n",
        "Var[X_1] = E[X_1 ^2] - E[X_1]^2 \\implies E[X_1^2] = 2\\frac{1}{\\lambda^2}\n",
        "\\end{equation}\n",
        "\n",
        "\\begin{equation}\n",
        "I(\\lambda) = n\\frac{1}{\\lambda^2}\n",
        "\\end{equation}\n",
        "\n",
        "Pour finir, avec $g'(\\lambda)^2 = \\frac{1}{\\lambda^4}$, on a:\n",
        "\n",
        "\n",
        "\\begin{equation}\n",
        "Var_{\\lambda}[T_1(X)] = \\frac{1}{n \\lambda^2} \\leq \\frac{{g_1'(\\lambda)}^2}{I(\\lambda)} = \\frac{\\frac{1}{\\lambda^4}}{ n\\frac{1}{\\lambda^2}}\n",
        "\\end{equation}\n",
        "\n",
        "\\begin{equation}\n",
        " \\frac{1}{n \\lambda^2} = \\frac{1}{n \\lambda^2}\n",
        "\\end{equation}\n",
        "\n",
        "Par conséquent, la statistique T1(X) est un estimateur efficace pour g1(λ) au sens de Cramer-Rao."
      ]
    },
    {
      "cell_type": "markdown",
      "metadata": {
        "id": "XHRC5gSTMeiQ"
      },
      "source": [
        "#### **4-)** \n",
        "On calcule g1 en utilisant l'estimateur T1"
      ]
    },
    {
      "cell_type": "code",
      "metadata": {
        "colab": {
          "base_uri": "https://localhost:8080/"
        },
        "id": "A7zSlIGEMi2e",
        "outputId": "fd28c99c-39eb-457e-9304-e7eaba06e96f"
      },
      "source": [
        "g1 = x.sum()/len(x)\n",
        "print(g1)"
      ],
      "execution_count": null,
      "outputs": [
        {
          "output_type": "stream",
          "name": "stdout",
          "text": [
            "726.3363636363637\n"
          ]
        }
      ]
    },
    {
      "cell_type": "markdown",
      "metadata": {
        "id": "_pFlGJlqOwj8"
      },
      "source": [
        "#### **5-)**\n",
        "Soit $\\tilde{T}_{1,\\eta}(X)$  le nouvel estimateur:\n",
        "\n",
        "\\begin{equation}\n",
        "\\tilde{T}_{1,\\eta}(X) = \\eta T_1(X),\\;\\;\\eta>0\n",
        "\\end{equation}\n",
        "\n",
        "On calcule le risque quadratique $R(\\lambda,\\tilde{T}_{1,\\eta}(X))$ de l'estimateur.\n",
        "\n",
        "\\begin{equation}\n",
        "R(\\lambda,\\tilde{T}_{1,\\eta}(X)) = biais(\\frac{1}{\\lambda},\\tilde{T}_{1,\\eta}(X))^2 + Var_{\\lambda}[\\tilde{T}_{1,\\eta}(X)]\n",
        "\\end{equation}\n",
        "\n",
        "On calcule le biais:\n",
        "\\begin{equation}\n",
        "biais(\\frac{1}{\\lambda},\\tilde{T}_{1,\\eta}(X)) = E\\left[\\tilde{T}_{1,\\eta}(X)-\\frac{1}{\\lambda}\\right] = E[\\tilde{T}_{1,\\eta}(X)] - \\frac{1}{\\lambda} = \\eta E[T_1(X)] - \\frac{1}{\\lambda} = \\frac{\\eta -1}{\\lambda}\n",
        "\\end{equation}\n",
        "\n",
        "On calcule la variance:\n",
        "\n",
        "\\begin{equation}\n",
        "Var_{\\lambda}[\\tilde{T}_{1,\\eta}(X)] = Var_{\\lambda}[\\eta T_1(X)] = \\eta^2 Var_{\\lambda}[T_1(X)] =  \\eta^2 \\frac{1}{n \\lambda^2}\n",
        "\\end{equation}\n",
        "\n",
        "Donc,\n",
        "\n",
        "\\begin{equation}\n",
        "R(\\lambda,\\tilde{T}_{1,\\eta}(X)) = \\left(\\frac{\\eta -1}{\\lambda}\\right)^2 +  \\eta^2 \\frac{1}{n \\lambda^2}\n",
        "\\end{equation}\n",
        "\n",
        "On sait aussi que:\n",
        "\n",
        "\\begin{equation}\n",
        "R(\\lambda,T_1(X)) = 0 +  \\frac{1}{n \\lambda^2}\n",
        "\\end{equation}\n",
        "\n",
        "On peut montrer que:\n",
        "\n",
        "\\begin{equation}\n",
        "R(\\lambda,\\tilde{T}_{1,\\eta}(X)) < R(\\lambda,T_1(X)) \\;\\; \\forall \\;\\; \\lambda > 0\n",
        "\\end{equation}\n",
        "\n",
        "\\begin{equation}\n",
        "\\left(\\frac{\\eta -1}{\\lambda}\\right)^2 +  \\eta^2 \\frac{1}{n \\lambda^2} < \\frac{1}{n \\lambda^2} \\implies \\left(\\frac{\\eta -1}{\\lambda}\\right)^2 +   \\frac{\\eta^2 }{n \\lambda^2} - \\frac{1}{n \\lambda^2} < 0\n",
        "\\end{equation}\n",
        "\n",
        "Pour le cas dont $n > 0$,\n",
        "\n",
        "\\begin{equation}\n",
        "(n + 1)\\eta^2 - (2n)\\eta + (n - 1) < 0\n",
        "\\end{equation}\n",
        "\n",
        "Les solutions de l'equation sont:\n",
        "\n",
        "\\begin{equation}\n",
        "\\eta_1 = 1 \\;\\;\\;\\; et \\;\\;\\;\\; \\eta_2 = \\frac{n - 1}{n + 1}\n",
        "\\end{equation}\n",
        "\n",
        "Donc, quand \n",
        "\n",
        "\\begin{equation}\n",
        "\\frac{n - 1}{n + 1} < \\eta <  1\n",
        "\\end{equation}\n",
        "on a $R(\\lambda,\\tilde{T}_{1,\\eta}(X)) < R(\\lambda,T_1(X)) \\;\\; \\forall \\;\\; \\lambda > 0$.\n",
        "\n",
        "Ce résultat n'est pas en contradiction avec la question précédente, puisque les deux estimateurs sont efficaces. Cependant, pour cet intervalle ($\\frac{n - 1}{n + 1} < \\eta <  1$), le nouvel estimateur ($\\tilde{T}_{1,\\eta}(X)$) présente un risque quadratique plus faible."
      ]
    },
    {
      "cell_type": "markdown",
      "metadata": {
        "id": "viDQKZBfO1Ou"
      },
      "source": [
        "#### **6-)**\n",
        "Pour calculer la médiane, il suffit d'égaliser la fonction de répartition à $\\frac{1}{2}$\n",
        "\n",
        "\\begin{equation}\n",
        "F_{X}(x) = 1 - e^{-\\frac{x}{g_1(\\lambda)}} =\\frac{1}{2} \\implies x = \\log{(2)}g_1(\\lambda)\n",
        "\\end{equation}\n",
        "\n",
        "Donc, on va utiliser l'estimateur $\\tilde{T}_{1,\\eta}(X)$ avec $\\eta = \\log{(2)}$ pour estimer la médiane"
      ]
    },
    {
      "cell_type": "code",
      "metadata": {
        "colab": {
          "base_uri": "https://localhost:8080/"
        },
        "id": "7oKxQ_C5fpPh",
        "outputId": "7dfaba1e-9f8d-4468-d452-32f9846b49eb"
      },
      "source": [
        "eta = np.log(2)\n",
        "median = eta*g1\n",
        "print(\"la médian estimée:\",median)\n",
        "print(\"la médian empirique:\",np.median(x))\n"
      ],
      "execution_count": null,
      "outputs": [
        {
          "output_type": "stream",
          "name": "stdout",
          "text": [
            "la médian estimée: 503.4580025927086\n",
            "la médian empirique: 89.9\n"
          ]
        }
      ]
    },
    {
      "cell_type": "markdown",
      "metadata": {
        "id": "lfRVNRSNO28L"
      },
      "source": [
        "#### **7-)** \n",
        "Dans le cas dont $\\eta = \\log{(2)}$, on peut comparer le risque de chaque estimateur:\n",
        "\n",
        "\\begin{equation}\n",
        "R(\\lambda,\\tilde{T}_{1,\\eta}(X)) = \\left(\\frac{\\log{(2)} -1}{\\lambda}\\right)^2 +  \\log{(2)}^2 \\frac{1}{n \\lambda^2} \\approx \\frac{0.094158n + 0,480453}{n\\lambda^2}\n",
        "\\end{equation}\n",
        "\n",
        "\\begin{equation}\n",
        "R(\\lambda,T_1(X)) = \\frac{1}{n \\lambda^2}\n",
        "\\end{equation}"
      ]
    },
    {
      "cell_type": "code",
      "metadata": {
        "colab": {
          "base_uri": "https://localhost:8080/",
          "height": 295
        },
        "id": "2QnpsJrZwQS7",
        "outputId": "ddc32688-e6fc-4014-8960-1023dc91bbb7"
      },
      "source": [
        "n = np.linspace(1,55)\n",
        "#Risk T_1\n",
        "risk_T_1 = 1/(n*Lambda_Estimator**2)\n",
        "#Risk T_tilde\n",
        "risk_T_tilde = ((np.log(2) - 1)/(Lambda_Estimator))**2 + (np.log(2)**2/(n*Lambda_Estimator**2))\n",
        "\n",
        "#plot\n",
        "plt.title(\"Comparaison des risques des estimateurs\")\n",
        "plt.plot(risk_T_1, label= r'$T_1(X)$')\n",
        "plt.plot(risk_T_tilde, label= r'$\\tilde{T}_{1,\\eta}(X)$')\n",
        "plt.grid()\n",
        "plt.ylabel(\"R\")\n",
        "plt.xlabel(\"n\")\n",
        "plt.legend()\n",
        "plt.show()"
      ],
      "execution_count": null,
      "outputs": [
        {
          "output_type": "display_data",
          "data": {
            "image/png": "[encoded data removed]",
            "text/plain": [
              "<Figure size 432x288 with 1 Axes>"
            ]
          },
          "metadata": {
            "needs_background": "light"
          }
        }
      ]
    },
    {
      "cell_type": "markdown",
      "metadata": {
        "id": "oEJRNGVu3xiF"
      },
      "source": [
        "En observant le graphique, on peut noter que pour $n < 5.52$ , le risque $\\tilde{T}_{1,\\eta}(X)$ est plus petit. C'est-à-dire:\n",
        "\n",
        "\\begin{equation}\n",
        "  \\frac{n - 1}{n + 1} < \\eta = \\log{(2)} \\implies n < \\frac{\\log{(2)} + 1}{1 -  \\log{(2)}} \\approx 5.52\n",
        "\\end{equation}\n",
        "\n",
        "Donc c'est le limite de la region où l'estimateur, par construction, devrait présenter un risque plus faible."
      ]
    },
    {
      "cell_type": "markdown",
      "metadata": {
        "id": "KbXLuRRP8D_r"
      },
      "source": [
        "## **Exercise 3**"
      ]
    },
    {
      "cell_type": "markdown",
      "metadata": {
        "id": "S-tsAfRX8K8F"
      },
      "source": [
        "#### **1-)**\n",
        "On veut savoir si $E[X] < 1000$. C'est-à-dire, le coût moyen d’un accident est inférieur à un milliard de dollars. Donc, on a des hypothèses:\n",
        "\n",
        "\\begin{equation}\n",
        "  E[X] = \\frac{1}{\\lambda_0} = 1000 \\implies \\lambda_0 = 10^{-3}\n",
        "\\end{equation}\n",
        "*    L’hypothèse null:\n",
        "\n",
        "\\begin{equation}\n",
        "\\Theta_0 = \\left\\{\\lambda \\in \\Theta \\mid \\lambda \\geq \\frac{1}{\\lambda_0} \\right\\} \n",
        "\\end{equation}\n",
        "\n",
        "\\begin{equation}\n",
        "H_0 = \\left\\{ \\lambda \\in \\Theta \\mid \\lambda \\leq 10^{-3} \\right\\} \n",
        "\\end{equation}\n",
        "\n",
        "\n",
        "*    L’hypothèse alternative:\n",
        "\\begin{equation}\n",
        "\\Theta_1 = \\left\\{\\lambda \\in \\Theta \\mid \\lambda < \\frac{1}{\\lambda_0} \\right\\}\n",
        "\\end{equation}\n",
        "\n",
        "\\begin{equation}\n",
        "H_1 = \\left\\{ \\lambda \\in \\Theta \\mid \\lambda > 10^{-3} \\right\\} \\\\\n",
        "\\end{equation}\n",
        "\n",
        "\n",
        "\n",
        "\n",
        "\n",
        "\n",
        "\n"
      ]
    },
    {
      "cell_type": "markdown",
      "metadata": {
        "id": "mGbelqU6S2u3"
      },
      "source": [
        "#### **2-)**\n",
        "On calcule:\n",
        "\n",
        "\\begin{equation}\n",
        "\\Lambda(\\lambda) = \\frac{L(\\lambda_{H_1},x_1,...,x_n)}{L(\\lambda_{H_0},x_1,...,x_n)}\n",
        "\\end{equation}\n",
        "\n",
        "On sait que $X$ suit une distribution exponentielle:\n",
        "\n",
        "\\begin{equation}\n",
        "p_\\lambda(x) = \\lambda e^{-\\lambda x}\n",
        "\\end{equation}\n",
        "\n",
        "\\begin{align}\n",
        "L(\\lambda_{H_0},x_1,...,x_n) = \\prod_{i=1}^{n} p(x_i,\\lambda_{H_0}) \n",
        "\\end{align}\n",
        "\n",
        "Alors, $S(X) = \\sum_{i=1}^n x_i$,\n",
        "\n",
        "\\begin{equation}\n",
        " \\Lambda(\\lambda) =\\frac{\\lambda_{H_1}^{n}e^{-\\lambda_{H_1}\\sum_{i=1}^{n}x_{i}}}{\\lambda_{H_0}^{n}e^{-\\lambda_{H_0}\\sum_{i=1}^{n}x_{i}}} = \\left(\\frac{\\lambda_{H_1}}{\\lambda_{H_0}}\\right)^n e^{-(\\lambda_{H_1} - \\lambda_{H_0})S(X)}\n",
        "\\end{equation}\n",
        "\n",
        "Donc si $\\Lambda(\\lambda) > C$, le Test du rapport de vraisemblance plus puissant rejet $H_0$.\n",
        "\n",
        "\\begin{equation}\n",
        "\\left(\\frac{\\lambda_{H_1}}{\\lambda_{H_0}}\\right)^n e^{-(\\lambda_{H_1}-\\lambda_{H_0})S(X)} > C \\implies S(X) < \\ K\n",
        "\\end{equation}\n",
        "\n",
        "Parce que $\\Lambda(\\lambda)$ est une fonction strictement décroissante et continue.\n",
        "On rejet $H_0$ quand $S(X) < K$,  $K$  est une constante.\n",
        "Plus, $S(X)$ suit une distribution Gamma $\\Gamma(n,\\lambda)$\n"
      ]
    },
    {
      "cell_type": "markdown",
      "metadata": {
        "id": "Nu6oNxLVpx21"
      },
      "source": [
        "#### **3-)**\n",
        "\n",
        "En utilisant la distribution gamma, on calcule le p-valeur.\n"
      ]
    },
    {
      "cell_type": "code",
      "metadata": {
        "colab": {
          "base_uri": "https://localhost:8080/"
        },
        "id": "2OKhy2PcnO7p",
        "outputId": "13f1ce6b-0093-4872-c6c3-71a4223c39e8"
      },
      "source": [
        "pValue = stats.gamma.cdf(x=x.sum(),a=len(x), scale=1000)\n",
        "print(\"p-valeur:\",pValue)"
      ],
      "execution_count": null,
      "outputs": [
        {
          "output_type": "stream",
          "name": "stdout",
          "text": [
            "p-valeur: 0.013717486423264914\n"
          ]
        }
      ]
    },
    {
      "cell_type": "markdown",
      "metadata": {
        "id": "Psf3_mdUoe52"
      },
      "source": [
        "Donc, pour le niveau $\\alpha = 0.05$, \n",
        "on rejette l'hypothèse nulle $H_0$, parce que le $p_{valeur} \\approx 0.0137 < 0.05$. Ainsi, on affirme que  le coût moyen d’accident est inférieur à un milliard de dollars.\n",
        "\n"
      ]
    },
    {
      "cell_type": "markdown",
      "metadata": {
        "id": "LTvtszheqbaq"
      },
      "source": [
        "#### **4-)**"
      ]
    },
    {
      "cell_type": "code",
      "metadata": {
        "colab": {
          "base_uri": "https://localhost:8080/",
          "height": 298
        },
        "id": "xR662e7xqh2W",
        "outputId": "6f0048a7-015a-4c76-b318-86045a19ca56"
      },
      "source": [
        "Gamma = stats.gamma(a=len(x), scale=1000)\n",
        "Gamma_pdf = Gamma.pdf(x=np.arange(500*55,1500*55,55))\n",
        "K = Gamma.ppf(0.05)/55\n",
        "\n",
        "x1 = np.arange(500,1500)\n",
        "plt.figure(figsize=(8,4))\n",
        "plt.plot(x1,Gamma_pdf,label = \"Loi Gamma\")\n",
        "plt.fill_between(x1, Gamma_pdf, where = x1 < K, color = 'red', label = \"La région de rejet\")\n",
        "plt.axvline(g1,color='black',linestyle = '--',label=\"Moyenne des données\")\n",
        "plt.title(r'La densité de probabilité de $T_1$ et la région du rejet')\n",
        "plt.legend(loc=\"upper right\")\n",
        "plt.xlabel('Coût moyen')\n",
        "plt.show()"
      ],
      "execution_count": null,
      "outputs": [
        {
          "output_type": "display_data",
          "data": {
            "image/png": "[encoded data removed]",
            "text/plain": [
              "<Figure size 576x288 with 1 Axes>"
            ]
          },
          "metadata": {
            "needs_background": "light"
          }
        }
      ]
    },
    {
      "cell_type": "code",
      "metadata": {
        "colab": {
          "base_uri": "https://localhost:8080/"
        },
        "id": "zBf3Cg-d4FA3",
        "outputId": "bbe1bd88-510a-41e1-8b16-3242a2cac606"
      },
      "source": [
        "print(K)"
      ],
      "execution_count": null,
      "outputs": [
        {
          "output_type": "stream",
          "name": "stdout",
          "text": [
            "789.0147974522821\n"
          ]
        }
      ]
    },
    {
      "cell_type": "markdown",
      "metadata": {
        "id": "ICNXNDNosH5u"
      },
      "source": [
        "#### **5-)**"
      ]
    },
    {
      "cell_type": "code",
      "metadata": {
        "colab": {
          "base_uri": "https://localhost:8080/",
          "height": 589
        },
        "id": "7FuZ536730hC",
        "outputId": "d43373bd-59b9-4615-9f05-2a3424e24852"
      },
      "source": [
        "#moyen\n",
        "n = [10, 50, 100, 500, 100000]\n",
        "T = np.linspace(K - 800, 2*K, 10000)\n",
        "\n",
        "plt.figure(figsize=(8,4))\n",
        "for j in n:\n",
        "    powerFunction = stats.gamma.cdf(K, a=j, scale=T/j)\n",
        "    plt.plot(T, powerFunction, label=('n = ' + str(j)))\n",
        "\n",
        "plt.axvline(K, color='black',linestyle = '--',label = r'K $\\approx$' + '{:.2f}'.format(K))\n",
        "plt.legend()\n",
        "plt.xlabel(r'Coût moyen $\\left(\\frac{1}{\\lambda}\\right)$')\n",
        "plt.ylabel('Fonction puissance de test')\n",
        "plt.title(r'Fonction puissance de test pour le niveau $\\alpha = 0.05$ en fonction du coût moyen')\n",
        "plt.show()\n",
        "\n",
        "#lambda\n",
        "Lambda = np.linspace(1/K - 0.0008 , 2*(1/K), 10000)\n",
        "\n",
        "plt.figure(figsize=(8,4))\n",
        "for j in n:\n",
        "    powerFunction = stats.gamma.cdf(K, a=j, scale=1/(Lambda*j))\n",
        "    plt.plot(Lambda, powerFunction, label=('n = ' + str(j)))\n",
        "\n",
        "plt.axvline(1/K, color='black',linestyle = '--',label = r'$\\frac{1}{K}$ $\\approx$' + '{:.4f}'.format(1/K))\n",
        "plt.legend()\n",
        "plt.xlabel(r'$\\lambda$')\n",
        "plt.ylabel('Fonction puissance de test')\n",
        "plt.title(r'Fonction puissance de test pour le niveau $\\alpha = 0.05$ en fonction de $\\lambda$')\n",
        "plt.show()\n"
      ],
      "execution_count": null,
      "outputs": [
        {
          "output_type": "display_data",
          "data": {
            "image/png": "[encoded data removed]",
            "text/plain": [
              "<Figure size 576x288 with 1 Axes>"
            ]
          },
          "metadata": {
            "needs_background": "light"
          }
        },
        {
          "output_type": "display_data",
          "data": {
            "image/png": "[encoded data removed]",
            "text/plain": [
              "<Figure size 576x288 with 1 Axes>"
            ]
          },
          "metadata": {
            "needs_background": "light"
          }
        }
      ]
    },
    {
      "cell_type": "markdown",
      "metadata": {
        "id": "tT6xzAbSIwlc"
      },
      "source": [
        "On rejette l'hypothesé nulle quand $\\frac{1}{\\lambda} < K$ or $\\lambda > \\frac{1}{K}$. Donc, en analisant le graphe, on conclue que lorsque l'on augmente $\\lambda$ la fonction puissance de test pour le niveau $\\alpha$ augmente. C'est-à-dire que le degré de confiance pour rejeter l'hypothèse nulle augmente. De plus, il est à noter qu'augmenter le nombre d'échantillons (n) implique d'augmenter la puissance du test. Ou plutôt, ce processus augmente l'assertivité du test."
      ]
    },
    {
      "cell_type": "markdown",
      "metadata": {
        "id": "lFz98cz5JPXo"
      },
      "source": [
        "### **6-)**\n",
        "Le théorème central limite implique qu'à mesure que la taille des échantillons augmente, nous pouvons approximer la distribution par une gaussienne:\n",
        "\n",
        "\\begin{equation}\n",
        "T_1(X) \\sim \\Gamma(n,\\lambda) \\sim N\\left(\\frac{1}{\\lambda},\\frac{1}{\\lambda^2n}\\right)\n",
        "\\end{equation}\n",
        "\n"
      ]
    },
    {
      "cell_type": "code",
      "metadata": {
        "colab": {
          "base_uri": "https://localhost:8080/",
          "height": 298
        },
        "id": "b8fHCgOhcZIp",
        "outputId": "6a7fe098-530e-4977-9029-a6e054362357"
      },
      "source": [
        "Normal = stats.norm(loc=1000, scale=1/math.sqrt(len(x))*1000)\n",
        "x1 = np.arange(500,1500)\n",
        "Normal_pdf = Normal.pdf(x=x1)\n",
        "K = Normal.ppf(0.05)\n",
        "\n",
        "plt.figure(figsize=(8,4))\n",
        "plt.plot(x1,Normal_pdf,label = \"Loi Normale\")\n",
        "plt.fill_between(x1, Normal_pdf, where = x1 < K, color = 'red', label = \"La région de rejet\")\n",
        "plt.axvline(g1,color='black',linestyle = '--',label=\"Moyenne des données\")\n",
        "plt.title(r'La densité de probabilité de $T_1$ et la région du rejet')\n",
        "plt.legend(loc=\"upper right\")\n",
        "plt.xlabel('Coût moyen')\n",
        "plt.show()"
      ],
      "execution_count": null,
      "outputs": [
        {
          "output_type": "display_data",
          "data": {
            "image/png": "[encoded data removed]",
            "text/plain": [
              "<Figure size 576x288 with 1 Axes>"
            ]
          },
          "metadata": {
            "needs_background": "light"
          }
        }
      ]
    },
    {
      "cell_type": "code",
      "metadata": {
        "colab": {
          "base_uri": "https://localhost:8080/"
        },
        "id": "PT45mUP7i71w",
        "outputId": "d4656de4-f12f-4e0d-e6ee-c5751c2be594"
      },
      "source": [
        "print(K)"
      ],
      "execution_count": null,
      "outputs": [
        {
          "output_type": "stream",
          "name": "stdout",
          "text": [
            "778.2079821874304\n"
          ]
        }
      ]
    },
    {
      "cell_type": "markdown",
      "metadata": {
        "id": "ELMJ6mj-jhIH"
      },
      "source": [
        "Malgré les différences subtiles entre les régions de rejet (la constante $K$ qui définit la zone de rejet décroît de 789.01, pour la loi gamma, à 778.2, pour la loi normale), nous pouvons continuer à rejeter l'hypothèse nulle, le coût moyen obtenu continue d'appartenir à la région de rejet."
      ]
    }
  ]
}